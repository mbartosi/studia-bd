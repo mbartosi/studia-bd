{
 "cells": [
  {
   "cell_type": "code",
   "execution_count": null,
   "metadata": {
    "collapsed": false,
    "deletable": true,
    "editable": true
   },
   "outputs": [],
   "source": [
    "import re\n",
    "import ast\n",
    "import pyspark\n",
    "import time\n",
    "import datetime\n",
    "import html\n",
    "from pyspark import SparkContext\n",
    "from pyspark.sql import *\n",
    "from pyspark.sql.types import *\n",
    "from pyspark.sql.functions import unix_timestamp"
   ]
  },
  {
   "cell_type": "code",
   "execution_count": null,
   "metadata": {
    "collapsed": true,
    "deletable": true,
    "editable": true
   },
   "outputs": [],
   "source": [
    "sc = SparkContext()\n",
    "sqlContext = SQLContext(sc)"
   ]
  },
  {
   "cell_type": "code",
   "execution_count": null,
   "metadata": {
    "collapsed": true,
    "deletable": true,
    "editable": true
   },
   "outputs": [],
   "source": [
    "def attribute_search(attribute, string):\n",
    "    result = re.search(attribute+'=\\\"(.*?)\\\"', string)\n",
    "    if result:\n",
    "        return result.group(1).replace('\"', '')\n",
    "    else:\n",
    "        return None"
   ]
  },
  {
   "cell_type": "code",
   "execution_count": null,
   "metadata": {
    "collapsed": true,
    "deletable": true,
    "editable": true
   },
   "outputs": [],
   "source": []
  },
  {
   "cell_type": "code",
   "execution_count": null,
   "metadata": {
    "collapsed": true,
    "deletable": true,
    "editable": true
   },
   "outputs": [],
   "source": [
    "def tags_from_xml(line):\n",
    "    c = line.replace('<row', '').replace('/>', '')\n",
    "    row = dict()\n",
    "    row['Id'] = int(attribute_search('Id', c));\n",
    "    row['TagName'] = attribute_search('TagName', c);\n",
    "    count = attribute_search('Count', c);    \n",
    "    row['Count'] = int(count) if count else None;\n",
    "\n",
    "    return pyspark.Row(**row)"
   ]
  },
  {
   "cell_type": "code",
   "execution_count": null,
   "metadata": {
    "collapsed": true,
    "deletable": true,
    "editable": true
   },
   "outputs": [],
   "source": [
    "def badges_from_xml(line):\n",
    "    c = line.replace('<row', '').replace('/>', '')\n",
    "    row = dict()\n",
    "    row['Id'] = int(attribute_search('Id', c));\n",
    "    row['UserId'] = int(attribute_search('UserId', c));\n",
    "    row['Name'] = attribute_search('Name', c);\n",
    "    row['Date'] = datetime.datetime.strptime(attribute_search('Date', c), \"%Y-%m-%dT%H:%M:%S.%f\");\n",
    "    row['Class'] = int(attribute_search('Class', c));\n",
    "    row['TagBased'] = ast.literal_eval(attribute_search('TagBased', c));\n",
    "    return pyspark.Row(**row)"
   ]
  },
  {
   "cell_type": "code",
   "execution_count": null,
   "metadata": {
    "collapsed": false,
    "deletable": true,
    "editable": true
   },
   "outputs": [],
   "source": [
    "def users_from_xml(line):\n",
    "    c = line.replace('<row', '').replace('/>', '')\n",
    "    row = dict()\n",
    "    row['Id'] = int(attribute_search('Id', c));\n",
    "    row['Reputation'] = int(attribute_search('Reputation', c));\n",
    "    row['CreationDate'] = datetime.datetime.strptime(attribute_search('CreationDate', c), \"%Y-%m-%dT%H:%M:%S.%f\");\n",
    "    row['DisplayName'] = attribute_search('DisplayName', c);\n",
    "    row['LastAccessDate'] = datetime.datetime.strptime(attribute_search('LastAccessDate', c), \"%Y-%m-%dT%H:%M:%S.%f\");\n",
    "    row['WebsiteUrl'] = attribute_search('WebsiteUrl', c);\n",
    "    row['Location'] = attribute_search('Location', c);\n",
    "    age = attribute_search('Age', c);\n",
    "    row['Age'] = int(age) if age else None;\n",
    "    row['Views'] = int(attribute_search('Views', c));\n",
    "    row['UpVotes'] = int(attribute_search('UpVotes', c));\n",
    "    row['DownVotes'] = int(attribute_search('DownVotes', c));    \n",
    "    return pyspark.Row(**row)"
   ]
  },
  {
   "cell_type": "code",
   "execution_count": null,
   "metadata": {
    "collapsed": false,
    "deletable": true,
    "editable": true
   },
   "outputs": [],
   "source": [
    "def posts_from_xml(line):\n",
    "    c = line.replace('<row', '').replace('/>', '')\n",
    "    row = dict()\n",
    "    row['Id'] = int(attribute_search('Id', c));\n",
    "\n",
    "    row['PostTypeId'] = int(attribute_search('PostTypeId', c));\n",
    "    \n",
    "    parent = attribute_search('ParentId', c);\n",
    "    row['ParentId'] = int(parent) if parent else None;    \n",
    "    row['CreationDate'] = datetime.datetime.strptime(attribute_search('CreationDate', c), \"%Y-%m-%dT%H:%M:%S.%f\");\n",
    "    row['Score'] = int(attribute_search('Score', c));\n",
    "    \n",
    "    vc = attribute_search('ViewCount', c);\n",
    "    row['ViewCount'] = int(vc) if vc else None;\n",
    "        \n",
    "    row['Body'] = re.sub('(<!--.*?-->|<[^>]*>)', '', html.unescape(attribute_search('Body', c)));\n",
    "\n",
    "    title = attribute_search('Title', c);\n",
    "    row['Title'] = title if title else None;\n",
    "    \n",
    "    tags = attribute_search('Tags', c);\n",
    "    row['Tags'] = html.unescape(tags).replace('<', '').replace('>', ' ') if tags else None;\n",
    "    \n",
    "    owner = attribute_search('OwnerUserId', c);\n",
    "    row['OwnerUserId'] = int(owner) if owner else None;\n",
    "\n",
    "    count = attribute_search('AnswerCount', c);\n",
    "    row['AnswerCount'] = int(count) if count else None;\n",
    "    count = attribute_search('CommentCount', c);    \n",
    "    row['CommentCount'] = int(count) if count else None;\n",
    "    count = attribute_search('FavoriteCount', c);\n",
    "    row['FavoriteCount'] = int(count) if count else None;\n",
    "        \n",
    "    return pyspark.Row(**row)"
   ]
  },
  {
   "cell_type": "code",
   "execution_count": null,
   "metadata": {
    "collapsed": true,
    "deletable": true,
    "editable": true
   },
   "outputs": [],
   "source": [
    "def comments_from_xml(line):\n",
    "    c = line.replace('<row', '').replace('/>', '')\n",
    "    row = dict()    \n",
    "    row['Id'] = int(attribute_search('Id', c));\n",
    "    row['PostId'] = int(attribute_search('PostId', c));\n",
    "    row['Score'] = int(attribute_search('Score', c));\n",
    "    row['Text'] = re.sub('(<!--.*?-->|<[^>]*>)', '', html.unescape(attribute_search('Text', c)));    \n",
    "    row['CreationDate'] = datetime.datetime.strptime(attribute_search('CreationDate', c), \"%Y-%m-%dT%H:%M:%S.%f\");\n",
    "    user = attribute_search('UserId', c);\n",
    "    row['UserId'] = int(user) if user else None;\n",
    "    return pyspark.Row(**row)"
   ]
  },
  {
   "cell_type": "code",
   "execution_count": null,
   "metadata": {
    "collapsed": true
   },
   "outputs": [],
   "source": []
  },
  {
   "cell_type": "code",
   "execution_count": null,
   "metadata": {
    "collapsed": true
   },
   "outputs": [],
   "source": []
  },
  {
   "cell_type": "code",
   "execution_count": null,
   "metadata": {
    "collapsed": false,
    "deletable": true,
    "editable": true
   },
   "outputs": [],
   "source": [
    "users_rdd = sc.textFile('file:///home/marek/Dokumenty/Notebooks/gis_stack_spark/data/Users.xml') \\\n",
    "               .filter(lambda line: \"row\" in line) \\\n",
    "               .map(lambda l: users_from_xml(l))\n",
    "\n",
    "print(users_rdd.take(3))\n",
    "users = sqlContext.createDataFrame(users_rdd)\n",
    "users.printSchema()\n",
    "users.show()"
   ]
  },
  {
   "cell_type": "code",
   "execution_count": null,
   "metadata": {
    "collapsed": false,
    "deletable": true,
    "editable": true
   },
   "outputs": [],
   "source": [
    "badges_rdd = sc.textFile('file:///home/marek/Dokumenty/Notebooks/gis_stack_spark/data/Badges.xml') \\\n",
    "               .filter(lambda line: \"row\" in line) \\\n",
    "               .map(lambda l: badges_from_xml(l))\n",
    "\n",
    "print(badges_rdd.take(1))\n",
    "badges = sqlContext.createDataFrame(badges_rdd)\n",
    "badges.printSchema()\n",
    "badges.show()"
   ]
  },
  {
   "cell_type": "code",
   "execution_count": null,
   "metadata": {
    "collapsed": false,
    "deletable": true,
    "editable": true
   },
   "outputs": [],
   "source": [
    "posts_rdd = sc.textFile('file:///home/marek/Dokumenty/Notebooks/gis_stack_spark/data/Posts.xml') \\\n",
    "              .filter(lambda line: \"row\" in line) \\\n",
    "              .map(lambda l: posts_from_xml(l))\n",
    "\n",
    "print(posts_rdd.take(3))\n",
    "posts = sqlContext.createDataFrame(posts_rdd)\n",
    "posts.printSchema()\n",
    "posts.show()\n",
    "posts.select('Tags').show()"
   ]
  },
  {
   "cell_type": "code",
   "execution_count": null,
   "metadata": {
    "collapsed": false,
    "deletable": true,
    "editable": true
   },
   "outputs": [],
   "source": [
    "tags_rdd = sc.textFile('file:///home/marek/Dokumenty/Notebooks/gis_stack_spark/data/Tags.xml') \\\n",
    "               .filter(lambda line: \"row\" in line) \\\n",
    "               .map(lambda l: tags_from_xml(l))\n",
    "\n",
    "print(tags_rdd.take(3))\n",
    "tags = sqlContext.createDataFrame(tags_rdd)\n",
    "tags.printSchema()\n",
    "tags.show(100)"
   ]
  },
  {
   "cell_type": "code",
   "execution_count": null,
   "metadata": {
    "collapsed": false,
    "deletable": true,
    "editable": true
   },
   "outputs": [],
   "source": [
    "comments_rdd = sc.textFile('file:///home/marek/Dokumenty/Notebooks/gis_stack_spark/data/Comments.xml') \\\n",
    "               .filter(lambda line: \"row\" in line) \\\n",
    "               .map(lambda l: comments_from_xml(l))\n",
    "\n",
    "print(comments_rdd.take(3))\n",
    "comments = sqlContext.createDataFrame(comments_rdd)\n",
    "comments.printSchema()\n",
    "comments.show(100)"
   ]
  },
  {
   "cell_type": "code",
   "execution_count": null,
   "metadata": {
    "collapsed": true,
    "deletable": true,
    "editable": true
   },
   "outputs": [],
   "source": []
  },
  {
   "cell_type": "code",
   "execution_count": null,
   "metadata": {
    "collapsed": false,
    "deletable": true,
    "editable": true
   },
   "outputs": [],
   "source": []
  },
  {
   "cell_type": "code",
   "execution_count": null,
   "metadata": {
    "collapsed": true,
    "deletable": true,
    "editable": true
   },
   "outputs": [],
   "source": []
  },
  {
   "cell_type": "code",
   "execution_count": null,
   "metadata": {
    "collapsed": false,
    "deletable": true,
    "editable": true
   },
   "outputs": [],
   "source": []
  },
  {
   "cell_type": "code",
   "execution_count": null,
   "metadata": {
    "collapsed": false,
    "deletable": true,
    "editable": true
   },
   "outputs": [],
   "source": [
    "re.search(r'Name=\\\"(.*?)\\\"', 'Id=\"1\" UserId=\"2\" Name=\"Autobiographer\" Date=2010-07-22T18:58:27.867 Class=3 TagBased=False').group(1)"
   ]
  },
  {
   "cell_type": "code",
   "execution_count": null,
   "metadata": {
    "collapsed": true,
    "deletable": true,
    "editable": true
   },
   "outputs": [],
   "source": [
    "badges_lines = sc.textFile('file:///home/marek/Dokumenty/Notebooks/gis_stack_spark/data/Badges.xml')"
   ]
  },
  {
   "cell_type": "code",
   "execution_count": null,
   "metadata": {
    "collapsed": false,
    "deletable": true,
    "editable": true
   },
   "outputs": [],
   "source": [
    "badges_rdd = badges_lines.filter(lambda line: \"row\" in line) \\\n",
    "             .map(lambda x: x.strip().replace('\"', '').split(\" \")) \\\n",
    "             .map(lambda x: (int(x[1].split('=')[1]), int(x[2].split('=')[1]), \\\n",
    "                             x[3].split('=')[1], \\\n",
    "                             datetime.datetime.strptime(x[4].split('=')[1], \"%Y-%m-%dT%H:%M:%S.%f\"), \\\n",
    "                             int(x[5].split('=')[1]), ast.literal_eval(x[6].split('=')[1]) \\\n",
    "                             ))"
   ]
  },
  {
   "cell_type": "code",
   "execution_count": null,
   "metadata": {
    "collapsed": false,
    "deletable": true,
    "editable": true
   },
   "outputs": [],
   "source": [
    "badges_rdd.take(8)"
   ]
  },
  {
   "cell_type": "code",
   "execution_count": null,
   "metadata": {
    "collapsed": false,
    "deletable": true,
    "editable": true
   },
   "outputs": [],
   "source": [
    "sqlContext.createDataFrame(badges_rdd, badgesSchema).collect()"
   ]
  },
  {
   "cell_type": "code",
   "execution_count": null,
   "metadata": {
    "collapsed": false,
    "deletable": true,
    "editable": true
   },
   "outputs": [],
   "source": [
    "sqlContext.createDataFrame(badges_rdd, badgesSchema).printSchema()"
   ]
  },
  {
   "cell_type": "code",
   "execution_count": null,
   "metadata": {
    "collapsed": false,
    "deletable": true,
    "editable": true
   },
   "outputs": [],
   "source": []
  },
  {
   "cell_type": "code",
   "execution_count": null,
   "metadata": {
    "collapsed": false,
    "deletable": true,
    "editable": true
   },
   "outputs": [],
   "source": [
    "badges_rdd = badges_lines.filter(lambda line: \"row\" in line) \\\n",
    "             .map(lambda x: x.replace('<row', '').replace('/>', '').replace('\"', '').strip())"
   ]
  },
  {
   "cell_type": "code",
   "execution_count": null,
   "metadata": {
    "collapsed": false,
    "deletable": true,
    "editable": true
   },
   "outputs": [],
   "source": [
    "badges_rdd.take(3)"
   ]
  },
  {
   "cell_type": "code",
   "execution_count": null,
   "metadata": {
    "collapsed": true,
    "deletable": true,
    "editable": true
   },
   "outputs": [],
   "source": []
  }
 ],
 "metadata": {
  "celltoolbar": "Raw Cell Format",
  "kernelspec": {
   "display_name": "Python 3",
   "language": "python",
   "name": "python3"
  },
  "language_info": {
   "codemirror_mode": {
    "name": "ipython",
    "version": 3
   },
   "file_extension": ".py",
   "mimetype": "text/x-python",
   "name": "python",
   "nbconvert_exporter": "python",
   "pygments_lexer": "ipython3",
   "version": "3.5.3"
  }
 },
 "nbformat": 4,
 "nbformat_minor": 2
}
