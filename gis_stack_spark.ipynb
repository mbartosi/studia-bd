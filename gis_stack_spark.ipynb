{
 "cells": [
  {
   "cell_type": "code",
   "execution_count": 1,
   "metadata": {
    "collapsed": false,
    "deletable": true,
    "editable": true
   },
   "outputs": [],
   "source": [
    "import re\n",
    "import ast\n",
    "import pyspark\n",
    "import time\n",
    "import datetime\n",
    "import html\n",
    "from pyspark import SparkContext\n",
    "from pyspark.sql import *\n",
    "from pyspark.sql.types import *\n",
    "from pyspark.sql.functions import *\n",
    "#visualisation\n",
    "from bokeh.plotting import figure, show, output_file, output_notebook\n",
    "from bokeh.charts import Histogram, Scatter, Bar, TimeSeries, show, \\\n",
    "                         output_file, output_notebook, color, marker, defaults\n",
    "from bokeh.layouts import column\n",
    "from bokeh.models import NumeralTickFormatter\n",
    "import pandas as pd"
   ]
  },
  {
   "cell_type": "code",
   "execution_count": 2,
   "metadata": {
    "collapsed": false,
    "deletable": true,
    "editable": true
   },
   "outputs": [],
   "source": [
    "sc = SparkContext()\n",
    "sqlContext = SQLContext(sc)"
   ]
  },
  {
   "cell_type": "code",
   "execution_count": 3,
   "metadata": {
    "collapsed": true,
    "deletable": true,
    "editable": true
   },
   "outputs": [],
   "source": [
    "# Domyślny rozmiar wykresów Bokeh:\n",
    "defaults.width = 900\n",
    "defaults.height = 500"
   ]
  },
  {
   "cell_type": "code",
   "execution_count": 4,
   "metadata": {
    "collapsed": true,
    "deletable": true,
    "editable": true
   },
   "outputs": [],
   "source": [
    "# Funkcja pomocnicza: wyszukiwanie podanego atrybutu w linii pliku XML,\n",
    "# zwraca wartość znalezionego atrybutu lub None jeśli atrybut nie istnieje\n",
    "\n",
    "def attribute_search(attribute, string):\n",
    "    result = re.search(attribute + '=\\\"(.*?)\\\"', string)\n",
    "    if result:\n",
    "        return result.group(1).replace('\"', '')\n",
    "    else:\n",
    "        return None"
   ]
  },
  {
   "cell_type": "code",
   "execution_count": 5,
   "metadata": {
    "collapsed": true,
    "deletable": true,
    "editable": true
   },
   "outputs": [],
   "source": [
    "# Funkcje pomocnicze: interpretacja plików XML (różne schematy danych)\n",
    "# ze Stackoverflow\n",
    "\n",
    "def tags_from_xml(line):\n",
    "    c = line.replace('<row', '').replace('/>', '')\n",
    "    row = dict()\n",
    "    row['Id'] = int(attribute_search('Id', c))\n",
    "    row['TagName'] = attribute_search('TagName', c)\n",
    "    count = attribute_search('Count', c)\n",
    "    row['Count'] = int(count) if count else None\n",
    "    excerpt = attribute_search('ExcerptPostId', c)\n",
    "    row['ExcerptPostId'] = int(excerpt) if excerpt else None\n",
    "    wiki = attribute_search('WikiPostId', c)\n",
    "    row['WikiPostId'] = int(wiki) if wiki else None\n",
    "    return pyspark.Row(**row)\n",
    "\n",
    "def badges_from_xml(line):\n",
    "    c = line.replace('<row', '').replace('/>', '')\n",
    "    row = dict()\n",
    "    row['Id'] = int(attribute_search('Id', c))\n",
    "    row['UserId'] = int(attribute_search('UserId', c))\n",
    "    row['Name'] = attribute_search('Name', c)\n",
    "    row['Date'] = datetime.datetime.strptime(attribute_search('Date', c), \"%Y-%m-%dT%H:%M:%S.%f\")\n",
    "    row['Class'] = int(attribute_search('Class', c))\n",
    "    row['TagBased'] = ast.literal_eval(attribute_search('TagBased', c))\n",
    "    return pyspark.Row(**row)\n",
    "\n",
    "def users_from_xml(line):\n",
    "    c = line.replace('<row', '').replace('/>', '')\n",
    "    row = dict()\n",
    "    row['Id'] = int(attribute_search('Id', c))\n",
    "    row['Reputation'] = int(attribute_search('Reputation', c))\n",
    "    row['CreationDate'] = datetime.datetime.strptime(attribute_search('CreationDate', c), \"%Y-%m-%dT%H:%M:%S.%f\")\n",
    "    row['DisplayName'] = attribute_search('DisplayName', c)\n",
    "    row['LastAccessDate'] = datetime.datetime.strptime(attribute_search('LastAccessDate', c), \"%Y-%m-%dT%H:%M:%S.%f\")\n",
    "    row['WebsiteUrl'] = attribute_search('WebsiteUrl', c)\n",
    "    row['Location'] = attribute_search('Location', c)\n",
    "    age = attribute_search('Age', c)\n",
    "    row['Age'] = int(age) if age else None\n",
    "    row['Views'] = int(attribute_search('Views', c))\n",
    "    row['UpVotes'] = int(attribute_search('UpVotes', c))\n",
    "    row['DownVotes'] = int(attribute_search('DownVotes', c))\n",
    "    return pyspark.Row(**row)\n",
    "\n",
    "def posts_from_xml(line):\n",
    "    c = line.replace('<row', '').replace('/>', '')\n",
    "    row = dict()\n",
    "    row['Id'] = int(attribute_search('Id', c))\n",
    "    row['PostTypeId'] = int(attribute_search('PostTypeId', c))\n",
    "    found_id = attribute_search('ParentId', c)\n",
    "    row['ParentId'] = int(found_id) if found_id else None\n",
    "    found_id = attribute_search('AcceptedAnswerId', c)\n",
    "    row['AcceptedAnswerId'] = int(found_id) if found_id else None\n",
    "    row['CreationDate'] = datetime.datetime.strptime(attribute_search('CreationDate', c), \"%Y-%m-%dT%H:%M:%S.%f\")\n",
    "    row['Score'] = int(attribute_search('Score', c))\n",
    "    vc = attribute_search('ViewCount', c)\n",
    "    row['ViewCount'] = int(vc) if vc else None\n",
    "    owner = attribute_search('OwnerUserId', c)\n",
    "    row['OwnerUserId'] = int(owner) if owner else None\n",
    "    lasted = attribute_search('LastEditorUserId', c)\n",
    "    row['LastEditorUserId'] = int(lasted) if lasted else None\n",
    "\n",
    "    row['Body'] = re.sub('(<!--.*?-->|<[^>]*>)', '', html.unescape(attribute_search('Body', c)))\n",
    "    title = attribute_search('Title', c)\n",
    "    row['Title'] = title if title else None\n",
    "    tags = attribute_search('Tags', c)\n",
    "    row['Tags'] = html.unescape(tags).replace('<', '').replace('>', ' ') if tags else None\n",
    "    date = attribute_search('ClosedDate', c)\n",
    "    row['ClosedDate'] = datetime.datetime.strptime(date, \"%Y-%m-%dT%H:%M:%S.%f\") if date else None\n",
    "\n",
    "    count = attribute_search('AnswerCount', c)\n",
    "    row['AnswerCount'] = int(count) if count else None\n",
    "    count = attribute_search('CommentCount', c)\n",
    "    row['CommentCount'] = int(count) if count else None\n",
    "    count = attribute_search('FavoriteCount', c)\n",
    "    row['FavoriteCount'] = int(count) if count else None\n",
    "        \n",
    "    return pyspark.Row(**row)\n",
    "\n",
    "def comments_from_xml(line):\n",
    "    c = line.replace('<row', '').replace('/>', '')\n",
    "    row = dict()\n",
    "    row['Id'] = int(attribute_search('Id', c))\n",
    "    row['PostId'] = int(attribute_search('PostId', c))\n",
    "    row['Score'] = int(attribute_search('Score', c))\n",
    "    row['Text'] = re.sub('(<!--.*?-->|<[^>]*>)', '', html.unescape(attribute_search('Text', c)))\n",
    "    row['CreationDate'] = datetime.datetime.strptime(attribute_search('CreationDate', c), \"%Y-%m-%dT%H:%M:%S.%f\")\n",
    "    user = attribute_search('UserId', c)\n",
    "    row['UserId'] = int(user) if user else None\n",
    "    return pyspark.Row(**row)\n",
    "\n",
    "def post_history_from_xml(line):\n",
    "    c = line.replace('<row', '').replace('/>', '')\n",
    "    row = dict()\n",
    "    row['Id'] = int(attribute_search('Id', c))\n",
    "    row['PostHistoryTypeId'] = int(attribute_search('PostHistoryTypeId', c))\n",
    "    row['PostId'] = int(attribute_search('PostId', c))\n",
    "    comm = attribute_search('Comment', c)\n",
    "    row['Comment'] = comm if comm else None\n",
    "    text = attribute_search('Text', c)\n",
    "    row['Text'] = re.sub('(<!--.*?-->|<[^>]*>)', '', html.unescape(text)) if text else None\n",
    "    return pyspark.Row(**row)\n",
    "\n",
    "def post_links_from_xml(line):\n",
    "    c = line.replace('<row', '').replace('/>', '')\n",
    "    row = dict()\n",
    "    row['Id'] = int(attribute_search('Id', c))\n",
    "    row['CreationDate'] = datetime.datetime.strptime(attribute_search('CreationDate', c), \"%Y-%m-%dT%H:%M:%S.%f\")\n",
    "    row['PostId'] = int(attribute_search('PostId', c))\n",
    "    row['RelatedPostId'] = int(attribute_search('RelatedPostId', c))\n",
    "    row['LinkTypeId'] = int(attribute_search('LinkTypeId', c))\n",
    "    return pyspark.Row(**row)"
   ]
  },
  {
   "cell_type": "code",
   "execution_count": 6,
   "metadata": {
    "collapsed": false,
    "deletable": true,
    "editable": true
   },
   "outputs": [],
   "source": [
    "# Wczytanie danych do RDD z plików XML, a następnie konwersja RDD do DF: \n",
    "xml_load_path = 'file:///home/marek/Dokumenty/Notebooks/bd/gis_stack_spark/data/'\n",
    "\n",
    "# Słownik: nazwa pliku i odpowiadająca mu funkcja pomocnicza interpretująca\n",
    "# schemat danych w pliku XML\n",
    "xml_load_list = {'Tags.xml': tags_from_xml, 'Badges.xml': badges_from_xml, \\\n",
    "                 'Users.xml': users_from_xml,'Posts.xml': posts_from_xml, \\\n",
    "                 'Comments.xml': comments_from_xml,'PostHistory.xml': post_history_from_xml, \\\n",
    "                 'PostLinks.xml': post_links_from_xml}\n",
    "\n",
    "tags_rdd = sc.textFile(xml_load_path + 'Tags.xml').filter(lambda line: \"row\" in line) \\\n",
    "             .map(lambda l: xml_load_list['Tags.xml'](l))\n",
    "\n",
    "badges_rdd = sc.textFile(xml_load_path + 'Badges.xml').filter(lambda line: \"row\" in line) \\\n",
    "               .map(lambda l: xml_load_list['Badges.xml'](l))\n",
    "\n",
    "users_rdd = sc.textFile(xml_load_path + 'Users.xml').filter(lambda line: \"row\" in line) \\\n",
    "              .map(lambda l: xml_load_list['Users.xml'](l))\n",
    "\n",
    "posts_rdd = sc.textFile(xml_load_path + 'Posts.xml').filter(lambda line: \"row\" in line) \\\n",
    "              .map(lambda l: xml_load_list['Posts.xml'](l))\n",
    "\n",
    "comments_rdd = sc.textFile(xml_load_path + 'Comments.xml').filter(lambda line: \"row\" in line) \\\n",
    "                 .map(lambda l: xml_load_list['Comments.xml'](l))\n",
    "\n",
    "post_history_rdd = sc.textFile(xml_load_path + 'PostHistory.xml').filter(lambda line: \"row\" in line) \\\n",
    "                     .map(lambda l: xml_load_list['PostHistory.xml'](l))\n",
    "\n",
    "post_links_rdd = sc.textFile(xml_load_path + 'PostLinks.xml').filter(lambda line: \"row\" in line) \\\n",
    "                   .map(lambda l: xml_load_list['PostLinks.xml'](l))\n",
    "\n",
    "# Konwersja na DataFrame:\n",
    "users = sqlContext.createDataFrame(users_rdd)\n",
    "badges = sqlContext.createDataFrame(badges_rdd)\n",
    "posts = sqlContext.createDataFrame(posts_rdd)\n",
    "tags = sqlContext.createDataFrame(tags_rdd)\n",
    "comments = sqlContext.createDataFrame(comments_rdd)\n",
    "post_history = sqlContext.createDataFrame(post_history_rdd)\n",
    "post_links = sqlContext.createDataFrame(post_links_rdd)"
   ]
  },
  {
   "cell_type": "code",
   "execution_count": null,
   "metadata": {
    "collapsed": false,
    "deletable": true,
    "editable": true
   },
   "outputs": [],
   "source": []
  },
  {
   "cell_type": "code",
   "execution_count": null,
   "metadata": {
    "collapsed": false,
    "deletable": true,
    "editable": true
   },
   "outputs": [],
   "source": []
  },
  {
   "cell_type": "code",
   "execution_count": null,
   "metadata": {
    "collapsed": false,
    "deletable": true,
    "editable": true
   },
   "outputs": [],
   "source": [
    "# Liczba użytowników (oś Y) vs liczba postów (oś X):\n",
    "# DF 'posts' kolumna OwnerUserId = DF 'users' kolumna Id --> można wyjąć np. DisplayName użytkownika\n",
    "# do samego policzenia: groupby OwnerUserId w tabeli posts\n",
    "\n",
    "users_by_posts = posts.groupBy('OwnerUserId').count()\\\n",
    "                      .select(col('OwnerUserId').alias('user'), col('count').alias('number_posts'))\\\n",
    "                      .groupBy('number_posts').count()\\\n",
    "                      .select(col('number_posts'), col('count').alias('number_users'))\\\n",
    "                      .orderBy('number_posts')"
   ]
  },
  {
   "cell_type": "code",
   "execution_count": null,
   "metadata": {
    "collapsed": true,
    "deletable": true,
    "editable": true
   },
   "outputs": [],
   "source": [
    "# Wersja z RDD:\n",
    "# x = users_by_posts.rdd.map(lambda x: x.number_posts).collect()\n",
    "# y = users_by_posts.rdd.map(lambda y: y.number_users).collect()\n",
    "\n",
    "# lub z pandas DF:\n",
    "x = users_by_posts.toPandas()['number_posts'].tolist()\n",
    "y = users_by_posts.toPandas()['number_users'].tolist()"
   ]
  },
  {
   "cell_type": "code",
   "execution_count": null,
   "metadata": {
    "collapsed": false,
    "deletable": true,
    "editable": true
   },
   "outputs": [],
   "source": [
    "# Użycie Bokeh do wyświetlenia danych\n",
    "output_notebook()\n",
    "plot = figure(plot_width=900, plot_height=500,\\\n",
    "              x_axis_type=\"log\", y_axis_type=\"log\",\\\n",
    "              x_axis_label=\"Liczba postów\", y_axis_label=\"Liczba użytkowników\")\n",
    "plot.circle(x, y, size=6, color=\"green\", alpha=0.4)\n",
    "show(plot)"
   ]
  },
  {
   "cell_type": "code",
   "execution_count": null,
   "metadata": {
    "collapsed": false,
    "deletable": true,
    "editable": true
   },
   "outputs": [],
   "source": []
  },
  {
   "cell_type": "code",
   "execution_count": null,
   "metadata": {
    "collapsed": true,
    "deletable": true,
    "editable": true
   },
   "outputs": [],
   "source": []
  },
  {
   "cell_type": "code",
   "execution_count": null,
   "metadata": {
    "collapsed": true,
    "deletable": true,
    "editable": true
   },
   "outputs": [],
   "source": []
  },
  {
   "cell_type": "code",
   "execution_count": null,
   "metadata": {
    "collapsed": false,
    "deletable": true,
    "editable": true
   },
   "outputs": [],
   "source": [
    "# Aktywność community GIS: Number of Questions vs Answers\n",
    "# posts -- PostTypeId = 1 (Question)\n",
    "# --> AnswerCount\n",
    "\n",
    "questions_vs_answers = posts.select(col('Id'), col('AnswerCount')).where(posts.PostTypeId == 1)\\\n",
    "                            .groupBy('AnswerCount').count()\\\n",
    "                            .select(col('AnswerCount').alias('answers'), col('count').alias('number_questions'))\\\n",
    "                            .orderBy('answers')"
   ]
  },
  {
   "cell_type": "code",
   "execution_count": null,
   "metadata": {
    "collapsed": false,
    "deletable": true,
    "editable": true
   },
   "outputs": [],
   "source": [
    "# wersja zamiast .toPandas() -- tworzy listę\n",
    "#x = questions_vs_answers.rdd.map(lambda x: x.answers).collect()\n",
    "#top = questions_vs_answers.rdd.map(lambda y: y.number_questions).collect()"
   ]
  },
  {
   "cell_type": "code",
   "execution_count": null,
   "metadata": {
    "collapsed": false,
    "deletable": true,
    "editable": true
   },
   "outputs": [],
   "source": [
    "# wykres finalny\n",
    "output_notebook()\n",
    "plot = Bar(questions_vs_answers.toPandas(), 'answers', values='number_questions', \\\n",
    "           title=\"Odpowiedzi vs liczba pytań\", legend='top_right', color=\"navy\", \\\n",
    "           ylabel='Pytania', xlabel='Odpowiedzi')\n",
    "\n",
    "show(plot)"
   ]
  },
  {
   "cell_type": "code",
   "execution_count": null,
   "metadata": {
    "collapsed": false,
    "deletable": true,
    "editable": true
   },
   "outputs": [],
   "source": [
    "total_questions = posts.select(posts.Id).where(posts.PostTypeId == 1).count()\n",
    "\n",
    "unanswered_questions = questions_vs_answers.select(col('number_questions')) \\\n",
    "                       .where(questions_vs_answers.answers == 0) \\\n",
    "                       .collect()[0].number_questions"
   ]
  },
  {
   "cell_type": "code",
   "execution_count": null,
   "metadata": {
    "collapsed": false,
    "deletable": true,
    "editable": true
   },
   "outputs": [],
   "source": [
    "print(\"Liczba pytań na forum GIS:    {}\".format(total_questions))\n",
    "print(\"Liczba pytań bez odpowiedzi:  {}\".format(unanswered_questions))\n",
    "print(\"Procent pytań bez odpowiedzi: {:.2%}\".format(unanswered_questions/total_questions))"
   ]
  },
  {
   "cell_type": "code",
   "execution_count": null,
   "metadata": {
    "collapsed": false,
    "deletable": true,
    "editable": true
   },
   "outputs": [],
   "source": [
    "posts.printSchema()"
   ]
  },
  {
   "cell_type": "code",
   "execution_count": null,
   "metadata": {
    "collapsed": false,
    "deletable": true,
    "editable": true
   },
   "outputs": [],
   "source": [
    "tags.printSchema()"
   ]
  },
  {
   "cell_type": "code",
   "execution_count": 7,
   "metadata": {
    "collapsed": false,
    "deletable": true,
    "editable": true
   },
   "outputs": [],
   "source": [
    "# Najpopularniejsze tagi na forum\n",
    "popular_tags = tags.select(tags.TagName, tags.Count)\\\n",
    "                   .sort(tags.Count, ascending=False).toPandas()"
   ]
  },
  {
   "cell_type": "code",
   "execution_count": null,
   "metadata": {
    "collapsed": false,
    "deletable": true,
    "editable": true
   },
   "outputs": [],
   "source": [
    "popular_tags.head(40)"
   ]
  },
  {
   "cell_type": "code",
   "execution_count": 8,
   "metadata": {
    "collapsed": false,
    "deletable": true,
    "editable": true
   },
   "outputs": [
    {
     "data": {
      "text/html": [
       "\n",
       "    <div class=\"bk-root\">\n",
       "        <a href=\"http://bokeh.pydata.org\" target=\"_blank\" class=\"bk-logo bk-logo-small bk-logo-notebook\"></a>\n",
       "        <span id=\"99f1f587-3a5b-4acb-b219-791624a3fbbd\">Loading BokehJS ...</span>\n",
       "    </div>"
      ]
     },
     "metadata": {},
     "output_type": "display_data"
    },
    {
     "data": {
      "application/javascript": [
       "\n",
       "(function(global) {\n",
       "  function now() {\n",
       "    return new Date();\n",
       "  }\n",
       "\n",
       "  var force = true;\n",
       "\n",
       "  if (typeof (window._bokeh_onload_callbacks) === \"undefined\" || force === true) {\n",
       "    window._bokeh_onload_callbacks = [];\n",
       "    window._bokeh_is_loading = undefined;\n",
       "  }\n",
       "\n",
       "\n",
       "  \n",
       "  if (typeof (window._bokeh_timeout) === \"undefined\" || force === true) {\n",
       "    window._bokeh_timeout = Date.now() + 5000;\n",
       "    window._bokeh_failed_load = false;\n",
       "  }\n",
       "\n",
       "  var NB_LOAD_WARNING = {'data': {'text/html':\n",
       "     \"<div style='background-color: #fdd'>\\n\"+\n",
       "     \"<p>\\n\"+\n",
       "     \"BokehJS does not appear to have successfully loaded. If loading BokehJS from CDN, this \\n\"+\n",
       "     \"may be due to a slow or bad network connection. Possible fixes:\\n\"+\n",
       "     \"</p>\\n\"+\n",
       "     \"<ul>\\n\"+\n",
       "     \"<li>re-rerun `output_notebook()` to attempt to load from CDN again, or</li>\\n\"+\n",
       "     \"<li>use INLINE resources instead, as so:</li>\\n\"+\n",
       "     \"</ul>\\n\"+\n",
       "     \"<code>\\n\"+\n",
       "     \"from bokeh.resources import INLINE\\n\"+\n",
       "     \"output_notebook(resources=INLINE)\\n\"+\n",
       "     \"</code>\\n\"+\n",
       "     \"</div>\"}};\n",
       "\n",
       "  function display_loaded() {\n",
       "    if (window.Bokeh !== undefined) {\n",
       "      document.getElementById(\"99f1f587-3a5b-4acb-b219-791624a3fbbd\").textContent = \"BokehJS successfully loaded.\";\n",
       "    } else if (Date.now() < window._bokeh_timeout) {\n",
       "      setTimeout(display_loaded, 100)\n",
       "    }\n",
       "  }\n",
       "\n",
       "  function run_callbacks() {\n",
       "    window._bokeh_onload_callbacks.forEach(function(callback) { callback() });\n",
       "    delete window._bokeh_onload_callbacks\n",
       "    console.info(\"Bokeh: all callbacks have finished\");\n",
       "  }\n",
       "\n",
       "  function load_libs(js_urls, callback) {\n",
       "    window._bokeh_onload_callbacks.push(callback);\n",
       "    if (window._bokeh_is_loading > 0) {\n",
       "      console.log(\"Bokeh: BokehJS is being loaded, scheduling callback at\", now());\n",
       "      return null;\n",
       "    }\n",
       "    if (js_urls == null || js_urls.length === 0) {\n",
       "      run_callbacks();\n",
       "      return null;\n",
       "    }\n",
       "    console.log(\"Bokeh: BokehJS not loaded, scheduling load and callback at\", now());\n",
       "    window._bokeh_is_loading = js_urls.length;\n",
       "    for (var i = 0; i < js_urls.length; i++) {\n",
       "      var url = js_urls[i];\n",
       "      var s = document.createElement('script');\n",
       "      s.src = url;\n",
       "      s.async = false;\n",
       "      s.onreadystatechange = s.onload = function() {\n",
       "        window._bokeh_is_loading--;\n",
       "        if (window._bokeh_is_loading === 0) {\n",
       "          console.log(\"Bokeh: all BokehJS libraries loaded\");\n",
       "          run_callbacks()\n",
       "        }\n",
       "      };\n",
       "      s.onerror = function() {\n",
       "        console.warn(\"failed to load library \" + url);\n",
       "      };\n",
       "      console.log(\"Bokeh: injecting script tag for BokehJS library: \", url);\n",
       "      document.getElementsByTagName(\"head\")[0].appendChild(s);\n",
       "    }\n",
       "  };var element = document.getElementById(\"99f1f587-3a5b-4acb-b219-791624a3fbbd\");\n",
       "  if (element == null) {\n",
       "    console.log(\"Bokeh: ERROR: autoload.js configured with elementid '99f1f587-3a5b-4acb-b219-791624a3fbbd' but no matching script tag was found. \")\n",
       "    return false;\n",
       "  }\n",
       "\n",
       "  var js_urls = [\"https://cdn.pydata.org/bokeh/release/bokeh-0.12.4.min.js\", \"https://cdn.pydata.org/bokeh/release/bokeh-widgets-0.12.4.min.js\"];\n",
       "\n",
       "  var inline_js = [\n",
       "    function(Bokeh) {\n",
       "      Bokeh.set_log_level(\"info\");\n",
       "    },\n",
       "    \n",
       "    function(Bokeh) {\n",
       "      \n",
       "      document.getElementById(\"99f1f587-3a5b-4acb-b219-791624a3fbbd\").textContent = \"BokehJS is loading...\";\n",
       "    },\n",
       "    function(Bokeh) {\n",
       "      console.log(\"Bokeh: injecting CSS: https://cdn.pydata.org/bokeh/release/bokeh-0.12.4.min.css\");\n",
       "      Bokeh.embed.inject_css(\"https://cdn.pydata.org/bokeh/release/bokeh-0.12.4.min.css\");\n",
       "      console.log(\"Bokeh: injecting CSS: https://cdn.pydata.org/bokeh/release/bokeh-widgets-0.12.4.min.css\");\n",
       "      Bokeh.embed.inject_css(\"https://cdn.pydata.org/bokeh/release/bokeh-widgets-0.12.4.min.css\");\n",
       "    }\n",
       "  ];\n",
       "\n",
       "  function run_inline_js() {\n",
       "    \n",
       "    if ((window.Bokeh !== undefined) || (force === true)) {\n",
       "      for (var i = 0; i < inline_js.length; i++) {\n",
       "        inline_js[i](window.Bokeh);\n",
       "      }if (force === true) {\n",
       "        display_loaded();\n",
       "      }} else if (Date.now() < window._bokeh_timeout) {\n",
       "      setTimeout(run_inline_js, 100);\n",
       "    } else if (!window._bokeh_failed_load) {\n",
       "      console.log(\"Bokeh: BokehJS failed to load within specified timeout.\");\n",
       "      window._bokeh_failed_load = true;\n",
       "    } else if (force !== true) {\n",
       "      var cell = $(document.getElementById(\"99f1f587-3a5b-4acb-b219-791624a3fbbd\")).parents('.cell').data().cell;\n",
       "      cell.output_area.append_execute_result(NB_LOAD_WARNING)\n",
       "    }\n",
       "\n",
       "  }\n",
       "\n",
       "  if (window._bokeh_is_loading === 0) {\n",
       "    console.log(\"Bokeh: BokehJS loaded, going straight to plotting\");\n",
       "    run_inline_js();\n",
       "  } else {\n",
       "    load_libs(js_urls, function() {\n",
       "      console.log(\"Bokeh: BokehJS plotting callback run at\", now());\n",
       "      run_inline_js();\n",
       "    });\n",
       "  }\n",
       "}(this));"
      ]
     },
     "metadata": {},
     "output_type": "display_data"
    },
    {
     "data": {
      "text/html": [
       "\n",
       "\n",
       "    <div class=\"bk-root\">\n",
       "        <div class=\"bk-plotdiv\" id=\"e2ff04b8-12fd-46f4-99b5-7b3f22a28c03\"></div>\n",
       "    </div>\n",
       "<script type=\"text/javascript\">\n",
       "  \n",
       "  (function(global) {\n",
       "    function now() {\n",
       "      return new Date();\n",
       "    }\n",
       "  \n",
       "    var force = false;\n",
       "  \n",
       "    if (typeof (window._bokeh_onload_callbacks) === \"undefined\" || force === true) {\n",
       "      window._bokeh_onload_callbacks = [];\n",
       "      window._bokeh_is_loading = undefined;\n",
       "    }\n",
       "  \n",
       "  \n",
       "    \n",
       "    if (typeof (window._bokeh_timeout) === \"undefined\" || force === true) {\n",
       "      window._bokeh_timeout = Date.now() + 0;\n",
       "      window._bokeh_failed_load = false;\n",
       "    }\n",
       "  \n",
       "    var NB_LOAD_WARNING = {'data': {'text/html':\n",
       "       \"<div style='background-color: #fdd'>\\n\"+\n",
       "       \"<p>\\n\"+\n",
       "       \"BokehJS does not appear to have successfully loaded. If loading BokehJS from CDN, this \\n\"+\n",
       "       \"may be due to a slow or bad network connection. Possible fixes:\\n\"+\n",
       "       \"</p>\\n\"+\n",
       "       \"<ul>\\n\"+\n",
       "       \"<li>re-rerun `output_notebook()` to attempt to load from CDN again, or</li>\\n\"+\n",
       "       \"<li>use INLINE resources instead, as so:</li>\\n\"+\n",
       "       \"</ul>\\n\"+\n",
       "       \"<code>\\n\"+\n",
       "       \"from bokeh.resources import INLINE\\n\"+\n",
       "       \"output_notebook(resources=INLINE)\\n\"+\n",
       "       \"</code>\\n\"+\n",
       "       \"</div>\"}};\n",
       "  \n",
       "    function display_loaded() {\n",
       "      if (window.Bokeh !== undefined) {\n",
       "        document.getElementById(\"e2ff04b8-12fd-46f4-99b5-7b3f22a28c03\").textContent = \"BokehJS successfully loaded.\";\n",
       "      } else if (Date.now() < window._bokeh_timeout) {\n",
       "        setTimeout(display_loaded, 100)\n",
       "      }\n",
       "    }\n",
       "  \n",
       "    function run_callbacks() {\n",
       "      window._bokeh_onload_callbacks.forEach(function(callback) { callback() });\n",
       "      delete window._bokeh_onload_callbacks\n",
       "      console.info(\"Bokeh: all callbacks have finished\");\n",
       "    }\n",
       "  \n",
       "    function load_libs(js_urls, callback) {\n",
       "      window._bokeh_onload_callbacks.push(callback);\n",
       "      if (window._bokeh_is_loading > 0) {\n",
       "        console.log(\"Bokeh: BokehJS is being loaded, scheduling callback at\", now());\n",
       "        return null;\n",
       "      }\n",
       "      if (js_urls == null || js_urls.length === 0) {\n",
       "        run_callbacks();\n",
       "        return null;\n",
       "      }\n",
       "      console.log(\"Bokeh: BokehJS not loaded, scheduling load and callback at\", now());\n",
       "      window._bokeh_is_loading = js_urls.length;\n",
       "      for (var i = 0; i < js_urls.length; i++) {\n",
       "        var url = js_urls[i];\n",
       "        var s = document.createElement('script');\n",
       "        s.src = url;\n",
       "        s.async = false;\n",
       "        s.onreadystatechange = s.onload = function() {\n",
       "          window._bokeh_is_loading--;\n",
       "          if (window._bokeh_is_loading === 0) {\n",
       "            console.log(\"Bokeh: all BokehJS libraries loaded\");\n",
       "            run_callbacks()\n",
       "          }\n",
       "        };\n",
       "        s.onerror = function() {\n",
       "          console.warn(\"failed to load library \" + url);\n",
       "        };\n",
       "        console.log(\"Bokeh: injecting script tag for BokehJS library: \", url);\n",
       "        document.getElementsByTagName(\"head\")[0].appendChild(s);\n",
       "      }\n",
       "    };var element = document.getElementById(\"e2ff04b8-12fd-46f4-99b5-7b3f22a28c03\");\n",
       "    if (element == null) {\n",
       "      console.log(\"Bokeh: ERROR: autoload.js configured with elementid 'e2ff04b8-12fd-46f4-99b5-7b3f22a28c03' but no matching script tag was found. \")\n",
       "      return false;\n",
       "    }\n",
       "  \n",
       "    var js_urls = [];\n",
       "  \n",
       "    var inline_js = [\n",
       "      function(Bokeh) {\n",
       "        (function() {\n",
       "          var fn = function() {\n",
       "            var docs_json = {\"094c63c2-f2fa-4a64-8222-af11c12bb19d\":{\"roots\":{\"references\":[{\"attributes\":{\"data_source\":{\"id\":\"98e3317f-15cd-429a-9fe4-9c46c96bac14\",\"type\":\"ColumnDataSource\"},\"glyph\":{\"id\":\"2ec6bdaf-3d93-491b-893d-0734e1ff4b7c\",\"type\":\"Rect\"},\"hover_glyph\":null,\"nonselection_glyph\":null,\"selection_glyph\":null},\"id\":\"ff48d6fd-4116-492d-9f7b-0923f749a5bf\",\"type\":\"GlyphRenderer\"},{\"attributes\":{\"fill_alpha\":{\"field\":\"fill_alpha\"},\"fill_color\":{\"field\":\"color\"},\"height\":{\"field\":\"height\",\"units\":\"data\"},\"line_color\":{\"field\":\"line_color\"},\"width\":{\"field\":\"width\",\"units\":\"data\"},\"x\":{\"field\":\"x\"},\"y\":{\"field\":\"y\"}},\"id\":\"0663a9c4-bd14-474d-89b5-4ee8aa258940\",\"type\":\"Rect\"},{\"attributes\":{\"fill_alpha\":{\"field\":\"fill_alpha\"},\"fill_color\":{\"field\":\"color\"},\"height\":{\"field\":\"height\",\"units\":\"data\"},\"line_color\":{\"field\":\"line_color\"},\"width\":{\"field\":\"width\",\"units\":\"data\"},\"x\":{\"field\":\"x\"},\"y\":{\"field\":\"y\"}},\"id\":\"500a7e7d-f374-48c1-b1a5-334230e490c6\",\"type\":\"Rect\"},{\"attributes\":{\"plot\":null,\"text\":\"Najpopularniejsze tagi na forum GIS\"},\"id\":\"e8973258-92b4-42fd-a917-613d9ec2606d\",\"type\":\"Title\"},{\"attributes\":{\"plot\":{\"id\":\"af59652a-b34f-42cf-b564-05d621769b87\",\"subtype\":\"Chart\",\"type\":\"Plot\"}},\"id\":\"a42d5baa-309c-463a-a6a0-9fe0a83f84b4\",\"type\":\"WheelZoomTool\"},{\"attributes\":{\"fill_alpha\":{\"field\":\"fill_alpha\"},\"fill_color\":{\"field\":\"color\"},\"height\":{\"field\":\"height\",\"units\":\"data\"},\"line_color\":{\"field\":\"line_color\"},\"width\":{\"field\":\"width\",\"units\":\"data\"},\"x\":{\"field\":\"x\"},\"y\":{\"field\":\"y\"}},\"id\":\"8f33f054-3f2f-49f7-980a-b72805e37b3c\",\"type\":\"Rect\"},{\"attributes\":{\"callback\":null,\"column_names\":[\"x\",\"fill_alpha\",\"line_alpha\",\"label\",\"width\",\"color\",\"height\",\"line_color\",\"y\"],\"data\":{\"TagName\":[\"postgis\"],\"chart_index\":[{\"TagName\":\"postgis\"}],\"color\":[\"darkviolet\"],\"fill_alpha\":[0.8],\"height\":[4967.0],\"label\":[{\"TagName\":\"postgis\"}],\"line_alpha\":[1.0],\"line_color\":[\"white\"],\"width\":[0.8],\"x\":[\"postgis\"],\"y\":[2483.5]}},\"id\":\"79bb10a3-dee3-4e46-b127-116c463eeee1\",\"type\":\"ColumnDataSource\"},{\"attributes\":{\"callback\":null,\"column_names\":[\"x\",\"fill_alpha\",\"line_alpha\",\"label\",\"width\",\"color\",\"height\",\"line_color\",\"y\"],\"data\":{\"TagName\":[\"postgresql\"],\"chart_index\":[{\"TagName\":\"postgresql\"}],\"color\":[\"darkviolet\"],\"fill_alpha\":[0.8],\"height\":[2192.0],\"label\":[{\"TagName\":\"postgresql\"}],\"line_alpha\":[1.0],\"line_color\":[\"white\"],\"width\":[0.8],\"x\":[\"postgresql\"],\"y\":[1096.0]}},\"id\":\"f866d586-aa3d-41bb-9b39-df1bf396a782\",\"type\":\"ColumnDataSource\"},{\"attributes\":{\"data_source\":{\"id\":\"8a3d826b-3fdf-43f0-a065-115d9000c3b7\",\"type\":\"ColumnDataSource\"},\"glyph\":{\"id\":\"f694a655-c30a-4e6f-9210-f0c0f5f0c19e\",\"type\":\"Rect\"},\"hover_glyph\":null,\"nonselection_glyph\":null,\"selection_glyph\":null},\"id\":\"965cdcb9-8a76-4ad9-a8a5-be853317aacd\",\"type\":\"GlyphRenderer\"},{\"attributes\":{\"callback\":null,\"column_names\":[\"x\",\"fill_alpha\",\"line_alpha\",\"label\",\"width\",\"color\",\"height\",\"line_color\",\"y\"],\"data\":{\"TagName\":[\"pyqgis\"],\"chart_index\":[{\"TagName\":\"pyqgis\"}],\"color\":[\"darkviolet\"],\"fill_alpha\":[0.8],\"height\":[2179.0],\"label\":[{\"TagName\":\"pyqgis\"}],\"line_alpha\":[1.0],\"line_color\":[\"white\"],\"width\":[0.8],\"x\":[\"pyqgis\"],\"y\":[1089.5]}},\"id\":\"7554b966-10fc-4647-a676-f9c5f520f943\",\"type\":\"ColumnDataSource\"},{\"attributes\":{\"axis_label\":\"Tag (nazwa)\",\"formatter\":{\"id\":\"e4eab830-e6fa-423a-9e4f-b573e7a9c319\",\"type\":\"CategoricalTickFormatter\"},\"major_label_orientation\":0.7853981633974483,\"plot\":{\"id\":\"af59652a-b34f-42cf-b564-05d621769b87\",\"subtype\":\"Chart\",\"type\":\"Plot\"},\"ticker\":{\"id\":\"a4bb8fd5-3c62-486c-aad1-c814cfb8e846\",\"type\":\"CategoricalTicker\"}},\"id\":\"76cad41a-8321-4bd7-a052-979c150fa44c\",\"type\":\"CategoricalAxis\"},{\"attributes\":{\"plot\":{\"id\":\"af59652a-b34f-42cf-b564-05d621769b87\",\"subtype\":\"Chart\",\"type\":\"Plot\"}},\"id\":\"13c8b3a1-a0a3-4ab3-aaf8-31f69ed3eb7a\",\"type\":\"SaveTool\"},{\"attributes\":{\"fill_alpha\":{\"field\":\"fill_alpha\"},\"fill_color\":{\"field\":\"color\"},\"height\":{\"field\":\"height\",\"units\":\"data\"},\"line_color\":{\"field\":\"line_color\"},\"width\":{\"field\":\"width\",\"units\":\"data\"},\"x\":{\"field\":\"x\"},\"y\":{\"field\":\"y\"}},\"id\":\"2ec6bdaf-3d93-491b-893d-0734e1ff4b7c\",\"type\":\"Rect\"},{\"attributes\":{},\"id\":\"5c39b9c6-b201-48c2-89f2-d9814d776e1f\",\"type\":\"BasicTickFormatter\"},{\"attributes\":{\"data_source\":{\"id\":\"22e1d6b9-c27a-4e07-9357-424094324c64\",\"type\":\"ColumnDataSource\"},\"glyph\":{\"id\":\"0a919002-0d53-4e93-a20b-9555756e981b\",\"type\":\"Rect\"},\"hover_glyph\":null,\"nonselection_glyph\":null,\"selection_glyph\":null},\"id\":\"6d5d8d75-8431-4a44-b841-31382f8a95fb\",\"type\":\"GlyphRenderer\"},{\"attributes\":{\"below\":[{\"id\":\"76cad41a-8321-4bd7-a052-979c150fa44c\",\"type\":\"CategoricalAxis\"}],\"css_classes\":null,\"height\":500,\"left\":[{\"id\":\"15183304-8b4d-48b8-a737-15045921375a\",\"type\":\"LinearAxis\"}],\"renderers\":[{\"id\":\"c6d6058f-7882-4c11-bf4b-66294a4a789c\",\"type\":\"BoxAnnotation\"},{\"id\":\"1738cfb3-9852-4b32-9af5-afe1e0ac5872\",\"type\":\"GlyphRenderer\"},{\"id\":\"6d5d8d75-8431-4a44-b841-31382f8a95fb\",\"type\":\"GlyphRenderer\"},{\"id\":\"b6760760-e28b-436a-993f-6f2a3f241024\",\"type\":\"GlyphRenderer\"},{\"id\":\"0c51dc82-c643-422a-8b80-aca689a91393\",\"type\":\"GlyphRenderer\"},{\"id\":\"9072c7e3-8383-44ec-b1f6-fb26f876370b\",\"type\":\"GlyphRenderer\"},{\"id\":\"c52150ed-a03a-497c-93e6-58446d2bc0a3\",\"type\":\"GlyphRenderer\"},{\"id\":\"9e28197e-e7fa-4ba8-8b10-25229919f44f\",\"type\":\"GlyphRenderer\"},{\"id\":\"56329904-fd99-457d-8156-f250558e90c8\",\"type\":\"GlyphRenderer\"},{\"id\":\"ff48d6fd-4116-492d-9f7b-0923f749a5bf\",\"type\":\"GlyphRenderer\"},{\"id\":\"5a83abbc-6a3c-4d09-b5d6-ae17b543e5be\",\"type\":\"GlyphRenderer\"},{\"id\":\"be97574b-b35e-44b0-bcf3-0eba5042e250\",\"type\":\"GlyphRenderer\"},{\"id\":\"fd324c81-6595-4ea6-bee5-911f4261d242\",\"type\":\"GlyphRenderer\"},{\"id\":\"4953835f-a484-4d47-b781-f774bce08bfe\",\"type\":\"GlyphRenderer\"},{\"id\":\"240eaf35-4369-4d90-8cd4-7039f78f0888\",\"type\":\"GlyphRenderer\"},{\"id\":\"a4ba0f05-862f-4480-8614-0584a8c08f78\",\"type\":\"GlyphRenderer\"},{\"id\":\"cbf0c793-0774-4795-b0bb-c9cf0285037f\",\"type\":\"GlyphRenderer\"},{\"id\":\"d567a4e0-197d-4110-a98a-605eb2de495c\",\"type\":\"GlyphRenderer\"},{\"id\":\"8f0bd474-435a-4f95-878b-a30c929ec1e1\",\"type\":\"GlyphRenderer\"},{\"id\":\"900d1ccc-c2fe-48df-9e48-465919556d4a\",\"type\":\"GlyphRenderer\"},{\"id\":\"965cdcb9-8a76-4ad9-a8a5-be853317aacd\",\"type\":\"GlyphRenderer\"},{\"id\":\"76cad41a-8321-4bd7-a052-979c150fa44c\",\"type\":\"CategoricalAxis\"},{\"id\":\"15183304-8b4d-48b8-a737-15045921375a\",\"type\":\"LinearAxis\"},{\"id\":\"e3631787-bcb4-45d7-9bca-4c3655dec144\",\"type\":\"Grid\"}],\"title\":{\"id\":\"e8973258-92b4-42fd-a917-613d9ec2606d\",\"type\":\"Title\"},\"tool_events\":{\"id\":\"ccf139c4-1c85-4ed8-8b68-84604ba95a9e\",\"type\":\"ToolEvents\"},\"toolbar\":{\"id\":\"fe380825-168a-4c99-abfa-22e33f143624\",\"type\":\"Toolbar\"},\"width\":900,\"x_mapper_type\":\"auto\",\"x_range\":{\"id\":\"a0647d1c-4590-4489-b24d-3edc268c4e54\",\"type\":\"FactorRange\"},\"y_mapper_type\":\"auto\",\"y_range\":{\"id\":\"bd3b0949-1b53-4bfc-95f4-a75b90c299a7\",\"type\":\"Range1d\"}},\"id\":\"af59652a-b34f-42cf-b564-05d621769b87\",\"subtype\":\"Chart\",\"type\":\"Plot\"},{\"attributes\":{\"callback\":null,\"column_names\":[\"x\",\"fill_alpha\",\"line_alpha\",\"label\",\"width\",\"color\",\"height\",\"line_color\",\"y\"],\"data\":{\"TagName\":[\"arcobjects\"],\"chart_index\":[{\"TagName\":\"arcobjects\"}],\"color\":[\"darkviolet\"],\"fill_alpha\":[0.8],\"height\":[2195.0],\"label\":[{\"TagName\":\"arcobjects\"}],\"line_alpha\":[1.0],\"line_color\":[\"white\"],\"width\":[0.8],\"x\":[\"arcobjects\"],\"y\":[1097.5]}},\"id\":\"0a9a1412-3aae-45c9-b813-a667583bc5d3\",\"type\":\"ColumnDataSource\"},{\"attributes\":{\"plot\":{\"id\":\"af59652a-b34f-42cf-b564-05d621769b87\",\"subtype\":\"Chart\",\"type\":\"Plot\"}},\"id\":\"ab3fcf76-5648-416e-82c2-07e12357fe3a\",\"type\":\"HelpTool\"},{\"attributes\":{},\"id\":\"e4eab830-e6fa-423a-9e4f-b573e7a9c319\",\"type\":\"CategoricalTickFormatter\"},{\"attributes\":{\"data_source\":{\"id\":\"79bb10a3-dee3-4e46-b127-116c463eeee1\",\"type\":\"ColumnDataSource\"},\"glyph\":{\"id\":\"c526d493-c868-4116-8e4e-1a65cea8c1d1\",\"type\":\"Rect\"},\"hover_glyph\":null,\"nonselection_glyph\":null,\"selection_glyph\":null},\"id\":\"9072c7e3-8383-44ec-b1f6-fb26f876370b\",\"type\":\"GlyphRenderer\"},{\"attributes\":{\"fill_alpha\":{\"field\":\"fill_alpha\"},\"fill_color\":{\"field\":\"color\"},\"height\":{\"field\":\"height\",\"units\":\"data\"},\"line_color\":{\"field\":\"line_color\"},\"width\":{\"field\":\"width\",\"units\":\"data\"},\"x\":{\"field\":\"x\"},\"y\":{\"field\":\"y\"}},\"id\":\"f694a655-c30a-4e6f-9210-f0c0f5f0c19e\",\"type\":\"Rect\"},{\"attributes\":{\"data_source\":{\"id\":\"6a3fc285-709f-4584-b607-d87547760e3c\",\"type\":\"ColumnDataSource\"},\"glyph\":{\"id\":\"728ad451-3aa6-4cdb-943e-7f3c68941b20\",\"type\":\"Rect\"},\"hover_glyph\":null,\"nonselection_glyph\":null,\"selection_glyph\":null},\"id\":\"5a83abbc-6a3c-4d09-b5d6-ae17b543e5be\",\"type\":\"GlyphRenderer\"},{\"attributes\":{\"callback\":null,\"column_names\":[\"x\",\"fill_alpha\",\"line_alpha\",\"label\",\"width\",\"color\",\"height\",\"line_color\",\"y\"],\"data\":{\"TagName\":[\"geoserver\"],\"chart_index\":[{\"TagName\":\"geoserver\"}],\"color\":[\"darkviolet\"],\"fill_alpha\":[0.8],\"height\":[3308.0],\"label\":[{\"TagName\":\"geoserver\"}],\"line_alpha\":[1.0],\"line_color\":[\"white\"],\"width\":[0.8],\"x\":[\"geoserver\"],\"y\":[1654.0]}},\"id\":\"98e3317f-15cd-429a-9fe4-9c46c96bac14\",\"type\":\"ColumnDataSource\"},{\"attributes\":{\"callback\":null,\"column_names\":[\"x\",\"fill_alpha\",\"line_alpha\",\"label\",\"width\",\"color\",\"height\",\"line_color\",\"y\"],\"data\":{\"TagName\":[\"python\"],\"chart_index\":[{\"TagName\":\"python\"}],\"color\":[\"darkviolet\"],\"fill_alpha\":[0.8],\"height\":[5678.0],\"label\":[{\"TagName\":\"python\"}],\"line_alpha\":[1.0],\"line_color\":[\"white\"],\"width\":[0.8],\"x\":[\"python\"],\"y\":[2839.0]}},\"id\":\"1854e27a-4c2e-4159-ac6f-76beeb3f10a4\",\"type\":\"ColumnDataSource\"},{\"attributes\":{\"axis_label\":\"Liczba post\\u00f3w\",\"formatter\":{\"id\":\"5c39b9c6-b201-48c2-89f2-d9814d776e1f\",\"type\":\"BasicTickFormatter\"},\"plot\":{\"id\":\"af59652a-b34f-42cf-b564-05d621769b87\",\"subtype\":\"Chart\",\"type\":\"Plot\"},\"ticker\":{\"id\":\"6ce3ee07-e541-40b0-89de-6e643cf18a54\",\"type\":\"BasicTicker\"}},\"id\":\"15183304-8b4d-48b8-a737-15045921375a\",\"type\":\"LinearAxis\"},{\"attributes\":{\"fill_alpha\":{\"field\":\"fill_alpha\"},\"fill_color\":{\"field\":\"color\"},\"height\":{\"field\":\"height\",\"units\":\"data\"},\"line_color\":{\"field\":\"line_color\"},\"width\":{\"field\":\"width\",\"units\":\"data\"},\"x\":{\"field\":\"x\"},\"y\":{\"field\":\"y\"}},\"id\":\"0a919002-0d53-4e93-a20b-9555756e981b\",\"type\":\"Rect\"},{\"attributes\":{\"fill_alpha\":{\"field\":\"fill_alpha\"},\"fill_color\":{\"field\":\"color\"},\"height\":{\"field\":\"height\",\"units\":\"data\"},\"line_color\":{\"field\":\"line_color\"},\"width\":{\"field\":\"width\",\"units\":\"data\"},\"x\":{\"field\":\"x\"},\"y\":{\"field\":\"y\"}},\"id\":\"b683ff8b-0f85-466e-b14a-ba47270c5744\",\"type\":\"Rect\"},{\"attributes\":{\"data_source\":{\"id\":\"7554b966-10fc-4647-a676-f9c5f520f943\",\"type\":\"ColumnDataSource\"},\"glyph\":{\"id\":\"c1e8ce89-4d29-4050-81b4-c377f091ea82\",\"type\":\"Rect\"},\"hover_glyph\":null,\"nonselection_glyph\":null,\"selection_glyph\":null},\"id\":\"8f0bd474-435a-4f95-878b-a30c929ec1e1\",\"type\":\"GlyphRenderer\"},{\"attributes\":{\"fill_alpha\":{\"field\":\"fill_alpha\"},\"fill_color\":{\"field\":\"color\"},\"height\":{\"field\":\"height\",\"units\":\"data\"},\"line_color\":{\"field\":\"line_color\"},\"width\":{\"field\":\"width\",\"units\":\"data\"},\"x\":{\"field\":\"x\"},\"y\":{\"field\":\"y\"}},\"id\":\"c1e8ce89-4d29-4050-81b4-c377f091ea82\",\"type\":\"Rect\"},{\"attributes\":{\"callback\":null,\"factors\":[\"arcgis-10.0\",\"arcgis-10.1\",\"arcgis-10.2\",\"arcgis-desktop\",\"arcgis-server\",\"arcmap\",\"arcobjects\",\"arcpy\",\"gdal\",\"geoserver\",\"javascript\",\"openlayers-2\",\"openstreetmap\",\"postgis\",\"postgresql\",\"pyqgis\",\"python\",\"qgis\",\"raster\",\"shapefile\"]},\"id\":\"a0647d1c-4590-4489-b24d-3edc268c4e54\",\"type\":\"FactorRange\"},{\"attributes\":{\"plot\":{\"id\":\"af59652a-b34f-42cf-b564-05d621769b87\",\"subtype\":\"Chart\",\"type\":\"Plot\"}},\"id\":\"2433cfbc-7be2-42ab-9192-eaf40b5c2081\",\"type\":\"PanTool\"},{\"attributes\":{\"callback\":null,\"column_names\":[\"x\",\"fill_alpha\",\"line_alpha\",\"label\",\"width\",\"color\",\"height\",\"line_color\",\"y\"],\"data\":{\"TagName\":[\"arcgis-10.2\"],\"chart_index\":[{\"TagName\":\"arcgis-10.2\"}],\"color\":[\"darkviolet\"],\"fill_alpha\":[0.8],\"height\":[2730.0],\"label\":[{\"TagName\":\"arcgis-10.2\"}],\"line_alpha\":[1.0],\"line_color\":[\"white\"],\"width\":[0.8],\"x\":[\"arcgis-10.2\"],\"y\":[1365.0]}},\"id\":\"db9144fc-0c07-4cf1-87ad-a5b51cbb025f\",\"type\":\"ColumnDataSource\"},{\"attributes\":{\"fill_alpha\":{\"field\":\"fill_alpha\"},\"fill_color\":{\"field\":\"color\"},\"height\":{\"field\":\"height\",\"units\":\"data\"},\"line_color\":{\"field\":\"line_color\"},\"width\":{\"field\":\"width\",\"units\":\"data\"},\"x\":{\"field\":\"x\"},\"y\":{\"field\":\"y\"}},\"id\":\"361e32d5-25aa-4270-80d7-b334adbfe2e5\",\"type\":\"Rect\"},{\"attributes\":{\"data_source\":{\"id\":\"e80ac871-62e1-4f35-a7f2-bccfe0d2f949\",\"type\":\"ColumnDataSource\"},\"glyph\":{\"id\":\"39a9621b-a92f-4d44-9a54-06c61aee789a\",\"type\":\"Rect\"},\"hover_glyph\":null,\"nonselection_glyph\":null,\"selection_glyph\":null},\"id\":\"a4ba0f05-862f-4480-8614-0584a8c08f78\",\"type\":\"GlyphRenderer\"},{\"attributes\":{\"data_source\":{\"id\":\"6972fcf0-9e48-47b0-8836-7841f82fdb23\",\"type\":\"ColumnDataSource\"},\"glyph\":{\"id\":\"77b9188d-5356-49bc-b43b-05deffc92d2c\",\"type\":\"Rect\"},\"hover_glyph\":null,\"nonselection_glyph\":null,\"selection_glyph\":null},\"id\":\"900d1ccc-c2fe-48df-9e48-465919556d4a\",\"type\":\"GlyphRenderer\"},{\"attributes\":{\"data_source\":{\"id\":\"1854e27a-4c2e-4159-ac6f-76beeb3f10a4\",\"type\":\"ColumnDataSource\"},\"glyph\":{\"id\":\"500a7e7d-f374-48c1-b1a5-334230e490c6\",\"type\":\"Rect\"},\"hover_glyph\":null,\"nonselection_glyph\":null,\"selection_glyph\":null},\"id\":\"0c51dc82-c643-422a-8b80-aca689a91393\",\"type\":\"GlyphRenderer\"},{\"attributes\":{\"callback\":null,\"column_names\":[\"x\",\"fill_alpha\",\"line_alpha\",\"label\",\"width\",\"color\",\"height\",\"line_color\",\"y\"],\"data\":{\"TagName\":[\"arcpy\"],\"chart_index\":[{\"TagName\":\"arcpy\"}],\"color\":[\"darkviolet\"],\"fill_alpha\":[0.8],\"height\":[5919.0],\"label\":[{\"TagName\":\"arcpy\"}],\"line_alpha\":[1.0],\"line_color\":[\"white\"],\"width\":[0.8],\"x\":[\"arcpy\"],\"y\":[2959.5]}},\"id\":\"466a4f18-2fd3-49e1-b3c4-12ea7db60db3\",\"type\":\"ColumnDataSource\"},{\"attributes\":{\"data_source\":{\"id\":\"ae21f2dd-2fcd-4f3d-b7fe-16ba4b24d280\",\"type\":\"ColumnDataSource\"},\"glyph\":{\"id\":\"b3db4ab7-918f-46a7-ae86-b6786303c4ec\",\"type\":\"Rect\"},\"hover_glyph\":null,\"nonselection_glyph\":null,\"selection_glyph\":null},\"id\":\"be97574b-b35e-44b0-bcf3-0eba5042e250\",\"type\":\"GlyphRenderer\"},{\"attributes\":{\"fill_alpha\":{\"field\":\"fill_alpha\"},\"fill_color\":{\"field\":\"color\"},\"height\":{\"field\":\"height\",\"units\":\"data\"},\"line_color\":{\"field\":\"line_color\"},\"width\":{\"field\":\"width\",\"units\":\"data\"},\"x\":{\"field\":\"x\"},\"y\":{\"field\":\"y\"}},\"id\":\"a5c84565-fd47-4f9a-92e7-f49912efa983\",\"type\":\"Rect\"},{\"attributes\":{\"data_source\":{\"id\":\"db9144fc-0c07-4cf1-87ad-a5b51cbb025f\",\"type\":\"ColumnDataSource\"},\"glyph\":{\"id\":\"9d8e516f-0049-4d45-8ee7-cc3422c99153\",\"type\":\"Rect\"},\"hover_glyph\":null,\"nonselection_glyph\":null,\"selection_glyph\":null},\"id\":\"4953835f-a484-4d47-b781-f774bce08bfe\",\"type\":\"GlyphRenderer\"},{\"attributes\":{\"callback\":null,\"column_names\":[\"x\",\"fill_alpha\",\"line_alpha\",\"label\",\"width\",\"color\",\"height\",\"line_color\",\"y\"],\"data\":{\"TagName\":[\"arcgis-10.1\"],\"chart_index\":[{\"TagName\":\"arcgis-10.1\"}],\"color\":[\"darkviolet\"],\"fill_alpha\":[0.8],\"height\":[3060.0],\"label\":[{\"TagName\":\"arcgis-10.1\"}],\"line_alpha\":[1.0],\"line_color\":[\"white\"],\"width\":[0.8],\"x\":[\"arcgis-10.1\"],\"y\":[1530.0]}},\"id\":\"ae21f2dd-2fcd-4f3d-b7fe-16ba4b24d280\",\"type\":\"ColumnDataSource\"},{\"attributes\":{\"fill_alpha\":{\"field\":\"fill_alpha\"},\"fill_color\":{\"field\":\"color\"},\"height\":{\"field\":\"height\",\"units\":\"data\"},\"line_color\":{\"field\":\"line_color\"},\"width\":{\"field\":\"width\",\"units\":\"data\"},\"x\":{\"field\":\"x\"},\"y\":{\"field\":\"y\"}},\"id\":\"9d8e516f-0049-4d45-8ee7-cc3422c99153\",\"type\":\"Rect\"},{\"attributes\":{\"callback\":null,\"end\":17099.25},\"id\":\"bd3b0949-1b53-4bfc-95f4-a75b90c299a7\",\"type\":\"Range1d\"},{\"attributes\":{\"fill_alpha\":{\"field\":\"fill_alpha\"},\"fill_color\":{\"field\":\"color\"},\"height\":{\"field\":\"height\",\"units\":\"data\"},\"line_color\":{\"field\":\"line_color\"},\"width\":{\"field\":\"width\",\"units\":\"data\"},\"x\":{\"field\":\"x\"},\"y\":{\"field\":\"y\"}},\"id\":\"b3db4ab7-918f-46a7-ae86-b6786303c4ec\",\"type\":\"Rect\"},{\"attributes\":{\"data_source\":{\"id\":\"ecabe477-278b-431d-a720-117a43c316dc\",\"type\":\"ColumnDataSource\"},\"glyph\":{\"id\":\"b683ff8b-0f85-466e-b14a-ba47270c5744\",\"type\":\"Rect\"},\"hover_glyph\":null,\"nonselection_glyph\":null,\"selection_glyph\":null},\"id\":\"c52150ed-a03a-497c-93e6-58446d2bc0a3\",\"type\":\"GlyphRenderer\"},{\"attributes\":{},\"id\":\"6ce3ee07-e541-40b0-89de-6e643cf18a54\",\"type\":\"BasicTicker\"},{\"attributes\":{\"data_source\":{\"id\":\"0a9a1412-3aae-45c9-b813-a667583bc5d3\",\"type\":\"ColumnDataSource\"},\"glyph\":{\"id\":\"0663a9c4-bd14-474d-89b5-4ee8aa258940\",\"type\":\"Rect\"},\"hover_glyph\":null,\"nonselection_glyph\":null,\"selection_glyph\":null},\"id\":\"cbf0c793-0774-4795-b0bb-c9cf0285037f\",\"type\":\"GlyphRenderer\"},{\"attributes\":{\"callback\":null,\"column_names\":[\"x\",\"fill_alpha\",\"line_alpha\",\"label\",\"width\",\"color\",\"height\",\"line_color\",\"y\"],\"data\":{\"TagName\":[\"shapefile\"],\"chart_index\":[{\"TagName\":\"shapefile\"}],\"color\":[\"darkviolet\"],\"fill_alpha\":[0.8],\"height\":[2899.0],\"label\":[{\"TagName\":\"shapefile\"}],\"line_alpha\":[1.0],\"line_color\":[\"white\"],\"width\":[0.8],\"x\":[\"shapefile\"],\"y\":[1449.5]}},\"id\":\"a39d92ae-012d-401c-bf06-de5c3f017fc0\",\"type\":\"ColumnDataSource\"},{\"attributes\":{\"data_source\":{\"id\":\"62b628a5-a8ef-4f4c-82bd-66d15d876c89\",\"type\":\"ColumnDataSource\"},\"glyph\":{\"id\":\"cbb6bd5f-cb73-48da-942c-0054091ea1ca\",\"type\":\"Rect\"},\"hover_glyph\":null,\"nonselection_glyph\":null,\"selection_glyph\":null},\"id\":\"56329904-fd99-457d-8156-f250558e90c8\",\"type\":\"GlyphRenderer\"},{\"attributes\":{\"callback\":null,\"column_names\":[\"x\",\"fill_alpha\",\"line_alpha\",\"label\",\"width\",\"color\",\"height\",\"line_color\",\"y\"],\"data\":{\"TagName\":[\"raster\"],\"chart_index\":[{\"TagName\":\"raster\"}],\"color\":[\"darkviolet\"],\"fill_alpha\":[0.8],\"height\":[4432.0],\"label\":[{\"TagName\":\"raster\"}],\"line_alpha\":[1.0],\"line_color\":[\"white\"],\"width\":[0.8],\"x\":[\"raster\"],\"y\":[2216.0]}},\"id\":\"ecabe477-278b-431d-a720-117a43c316dc\",\"type\":\"ColumnDataSource\"},{\"attributes\":{\"fill_alpha\":{\"field\":\"fill_alpha\"},\"fill_color\":{\"field\":\"color\"},\"height\":{\"field\":\"height\",\"units\":\"data\"},\"line_color\":{\"field\":\"line_color\"},\"width\":{\"field\":\"width\",\"units\":\"data\"},\"x\":{\"field\":\"x\"},\"y\":{\"field\":\"y\"}},\"id\":\"30ba971f-375a-4c8a-b229-9c2ab2c338c0\",\"type\":\"Rect\"},{\"attributes\":{\"fill_alpha\":{\"field\":\"fill_alpha\"},\"fill_color\":{\"field\":\"color\"},\"height\":{\"field\":\"height\",\"units\":\"data\"},\"line_color\":{\"field\":\"line_color\"},\"width\":{\"field\":\"width\",\"units\":\"data\"},\"x\":{\"field\":\"x\"},\"y\":{\"field\":\"y\"}},\"id\":\"728ad451-3aa6-4cdb-943e-7f3c68941b20\",\"type\":\"Rect\"},{\"attributes\":{\"callback\":null,\"column_names\":[\"x\",\"fill_alpha\",\"line_alpha\",\"label\",\"width\",\"color\",\"height\",\"line_color\",\"y\"],\"data\":{\"TagName\":[\"openstreetmap\"],\"chart_index\":[{\"TagName\":\"openstreetmap\"}],\"color\":[\"darkviolet\"],\"fill_alpha\":[0.8],\"height\":[1873.0],\"label\":[{\"TagName\":\"openstreetmap\"}],\"line_alpha\":[1.0],\"line_color\":[\"white\"],\"width\":[0.8],\"x\":[\"openstreetmap\"],\"y\":[936.5]}},\"id\":\"8a3d826b-3fdf-43f0-a065-115d9000c3b7\",\"type\":\"ColumnDataSource\"},{\"attributes\":{\"data_source\":{\"id\":\"a4f86718-9d08-459a-82d1-5803d9be07ef\",\"type\":\"ColumnDataSource\"},\"glyph\":{\"id\":\"361e32d5-25aa-4270-80d7-b334adbfe2e5\",\"type\":\"Rect\"},\"hover_glyph\":null,\"nonselection_glyph\":null,\"selection_glyph\":null},\"id\":\"9e28197e-e7fa-4ba8-8b10-25229919f44f\",\"type\":\"GlyphRenderer\"},{\"attributes\":{},\"id\":\"ccf139c4-1c85-4ed8-8b68-84604ba95a9e\",\"type\":\"ToolEvents\"},{\"attributes\":{\"fill_alpha\":{\"field\":\"fill_alpha\"},\"fill_color\":{\"field\":\"color\"},\"height\":{\"field\":\"height\",\"units\":\"data\"},\"line_color\":{\"field\":\"line_color\"},\"width\":{\"field\":\"width\",\"units\":\"data\"},\"x\":{\"field\":\"x\"},\"y\":{\"field\":\"y\"}},\"id\":\"1a9b9da9-c4ac-4c6a-81d5-ed0779098d49\",\"type\":\"Rect\"},{\"attributes\":{\"fill_alpha\":{\"field\":\"fill_alpha\"},\"fill_color\":{\"field\":\"color\"},\"height\":{\"field\":\"height\",\"units\":\"data\"},\"line_color\":{\"field\":\"line_color\"},\"width\":{\"field\":\"width\",\"units\":\"data\"},\"x\":{\"field\":\"x\"},\"y\":{\"field\":\"y\"}},\"id\":\"0612286e-e2ea-4c32-9cdb-a7f170acc5af\",\"type\":\"Rect\"},{\"attributes\":{\"callback\":null,\"column_names\":[\"x\",\"fill_alpha\",\"line_alpha\",\"label\",\"width\",\"color\",\"height\",\"line_color\",\"y\"],\"data\":{\"TagName\":[\"arcgis-server\"],\"chart_index\":[{\"TagName\":\"arcgis-server\"}],\"color\":[\"darkviolet\"],\"fill_alpha\":[0.8],\"height\":[2291.0],\"label\":[{\"TagName\":\"arcgis-server\"}],\"line_alpha\":[1.0],\"line_color\":[\"white\"],\"width\":[0.8],\"x\":[\"arcgis-server\"],\"y\":[1145.5]}},\"id\":\"e80ac871-62e1-4f35-a7f2-bccfe0d2f949\",\"type\":\"ColumnDataSource\"},{\"attributes\":{\"callback\":null,\"column_names\":[\"x\",\"fill_alpha\",\"line_alpha\",\"label\",\"width\",\"color\",\"height\",\"line_color\",\"y\"],\"data\":{\"TagName\":[\"arcgis-desktop\"],\"chart_index\":[{\"TagName\":\"arcgis-desktop\"}],\"color\":[\"darkviolet\"],\"fill_alpha\":[0.8],\"height\":[14326.0],\"label\":[{\"TagName\":\"arcgis-desktop\"}],\"line_alpha\":[1.0],\"line_color\":[\"white\"],\"width\":[0.8],\"x\":[\"arcgis-desktop\"],\"y\":[7163.0]}},\"id\":\"22e1d6b9-c27a-4e07-9357-424094324c64\",\"type\":\"ColumnDataSource\"},{\"attributes\":{\"fill_alpha\":{\"field\":\"fill_alpha\"},\"fill_color\":{\"field\":\"color\"},\"height\":{\"field\":\"height\",\"units\":\"data\"},\"line_color\":{\"field\":\"line_color\"},\"width\":{\"field\":\"width\",\"units\":\"data\"},\"x\":{\"field\":\"x\"},\"y\":{\"field\":\"y\"}},\"id\":\"cbb6bd5f-cb73-48da-942c-0054091ea1ca\",\"type\":\"Rect\"},{\"attributes\":{\"fill_alpha\":{\"field\":\"fill_alpha\"},\"fill_color\":{\"field\":\"color\"},\"height\":{\"field\":\"height\",\"units\":\"data\"},\"line_color\":{\"field\":\"line_color\"},\"width\":{\"field\":\"width\",\"units\":\"data\"},\"x\":{\"field\":\"x\"},\"y\":{\"field\":\"y\"}},\"id\":\"77b9188d-5356-49bc-b43b-05deffc92d2c\",\"type\":\"Rect\"},{\"attributes\":{\"callback\":null,\"column_names\":[\"x\",\"fill_alpha\",\"line_alpha\",\"label\",\"width\",\"color\",\"height\",\"line_color\",\"y\"],\"data\":{\"TagName\":[\"arcmap\"],\"chart_index\":[{\"TagName\":\"arcmap\"}],\"color\":[\"darkviolet\"],\"fill_alpha\":[0.8],\"height\":[3509.0],\"label\":[{\"TagName\":\"arcmap\"}],\"line_alpha\":[1.0],\"line_color\":[\"white\"],\"width\":[0.8],\"x\":[\"arcmap\"],\"y\":[1754.5]}},\"id\":\"62b628a5-a8ef-4f4c-82bd-66d15d876c89\",\"type\":\"ColumnDataSource\"},{\"attributes\":{\"data_source\":{\"id\":\"13439b4a-da80-4ba7-89b7-395f259ba013\",\"type\":\"ColumnDataSource\"},\"glyph\":{\"id\":\"a5c84565-fd47-4f9a-92e7-f49912efa983\",\"type\":\"Rect\"},\"hover_glyph\":null,\"nonselection_glyph\":null,\"selection_glyph\":null},\"id\":\"1738cfb3-9852-4b32-9af5-afe1e0ac5872\",\"type\":\"GlyphRenderer\"},{\"attributes\":{\"data_source\":{\"id\":\"a39d92ae-012d-401c-bf06-de5c3f017fc0\",\"type\":\"ColumnDataSource\"},\"glyph\":{\"id\":\"30ba971f-375a-4c8a-b229-9c2ab2c338c0\",\"type\":\"Rect\"},\"hover_glyph\":null,\"nonselection_glyph\":null,\"selection_glyph\":null},\"id\":\"fd324c81-6595-4ea6-bee5-911f4261d242\",\"type\":\"GlyphRenderer\"},{\"attributes\":{},\"id\":\"a4bb8fd5-3c62-486c-aad1-c814cfb8e846\",\"type\":\"CategoricalTicker\"},{\"attributes\":{\"callback\":null,\"column_names\":[\"x\",\"fill_alpha\",\"line_alpha\",\"label\",\"width\",\"color\",\"height\",\"line_color\",\"y\"],\"data\":{\"TagName\":[\"gdal\"],\"chart_index\":[{\"TagName\":\"gdal\"}],\"color\":[\"darkviolet\"],\"fill_alpha\":[0.8],\"height\":[2566.0],\"label\":[{\"TagName\":\"gdal\"}],\"line_alpha\":[1.0],\"line_color\":[\"white\"],\"width\":[0.8],\"x\":[\"gdal\"],\"y\":[1283.0]}},\"id\":\"d3bede24-cf24-4693-922b-0bbf14c8548f\",\"type\":\"ColumnDataSource\"},{\"attributes\":{\"data_source\":{\"id\":\"f866d586-aa3d-41bb-9b39-df1bf396a782\",\"type\":\"ColumnDataSource\"},\"glyph\":{\"id\":\"1a9b9da9-c4ac-4c6a-81d5-ed0779098d49\",\"type\":\"Rect\"},\"hover_glyph\":null,\"nonselection_glyph\":null,\"selection_glyph\":null},\"id\":\"d567a4e0-197d-4110-a98a-605eb2de495c\",\"type\":\"GlyphRenderer\"},{\"attributes\":{\"active_drag\":\"auto\",\"active_scroll\":\"auto\",\"active_tap\":\"auto\",\"tools\":[{\"id\":\"2433cfbc-7be2-42ab-9192-eaf40b5c2081\",\"type\":\"PanTool\"},{\"id\":\"a42d5baa-309c-463a-a6a0-9fe0a83f84b4\",\"type\":\"WheelZoomTool\"},{\"id\":\"5783f978-15d1-42dc-bca6-46fa3065c970\",\"type\":\"BoxZoomTool\"},{\"id\":\"13c8b3a1-a0a3-4ab3-aaf8-31f69ed3eb7a\",\"type\":\"SaveTool\"},{\"id\":\"f1ec6c14-87cc-43c2-900e-2618e0cceeda\",\"type\":\"ResetTool\"},{\"id\":\"ab3fcf76-5648-416e-82c2-07e12357fe3a\",\"type\":\"HelpTool\"}]},\"id\":\"fe380825-168a-4c99-abfa-22e33f143624\",\"type\":\"Toolbar\"},{\"attributes\":{\"callback\":null,\"column_names\":[\"x\",\"fill_alpha\",\"line_alpha\",\"label\",\"width\",\"color\",\"height\",\"line_color\",\"y\"],\"data\":{\"TagName\":[\"javascript\"],\"chart_index\":[{\"TagName\":\"javascript\"}],\"color\":[\"darkviolet\"],\"fill_alpha\":[0.8],\"height\":[1898.0],\"label\":[{\"TagName\":\"javascript\"}],\"line_alpha\":[1.0],\"line_color\":[\"white\"],\"width\":[0.8],\"x\":[\"javascript\"],\"y\":[949.0]}},\"id\":\"6972fcf0-9e48-47b0-8836-7841f82fdb23\",\"type\":\"ColumnDataSource\"},{\"attributes\":{\"data_source\":{\"id\":\"d3bede24-cf24-4693-922b-0bbf14c8548f\",\"type\":\"ColumnDataSource\"},\"glyph\":{\"id\":\"8f33f054-3f2f-49f7-980a-b72805e37b3c\",\"type\":\"Rect\"},\"hover_glyph\":null,\"nonselection_glyph\":null,\"selection_glyph\":null},\"id\":\"240eaf35-4369-4d90-8cd4-7039f78f0888\",\"type\":\"GlyphRenderer\"},{\"attributes\":{\"overlay\":{\"id\":\"c6d6058f-7882-4c11-bf4b-66294a4a789c\",\"type\":\"BoxAnnotation\"},\"plot\":{\"id\":\"af59652a-b34f-42cf-b564-05d621769b87\",\"subtype\":\"Chart\",\"type\":\"Plot\"}},\"id\":\"5783f978-15d1-42dc-bca6-46fa3065c970\",\"type\":\"BoxZoomTool\"},{\"attributes\":{\"data_source\":{\"id\":\"466a4f18-2fd3-49e1-b3c4-12ea7db60db3\",\"type\":\"ColumnDataSource\"},\"glyph\":{\"id\":\"0612286e-e2ea-4c32-9cdb-a7f170acc5af\",\"type\":\"Rect\"},\"hover_glyph\":null,\"nonselection_glyph\":null,\"selection_glyph\":null},\"id\":\"b6760760-e28b-436a-993f-6f2a3f241024\",\"type\":\"GlyphRenderer\"},{\"attributes\":{\"callback\":null,\"column_names\":[\"x\",\"fill_alpha\",\"line_alpha\",\"label\",\"width\",\"color\",\"height\",\"line_color\",\"y\"],\"data\":{\"TagName\":[\"arcgis-10.0\"],\"chart_index\":[{\"TagName\":\"arcgis-10.0\"}],\"color\":[\"darkviolet\"],\"fill_alpha\":[0.8],\"height\":[3528.0],\"label\":[{\"TagName\":\"arcgis-10.0\"}],\"line_alpha\":[1.0],\"line_color\":[\"white\"],\"width\":[0.8],\"x\":[\"arcgis-10.0\"],\"y\":[1764.0]}},\"id\":\"a4f86718-9d08-459a-82d1-5803d9be07ef\",\"type\":\"ColumnDataSource\"},{\"attributes\":{\"fill_alpha\":{\"field\":\"fill_alpha\"},\"fill_color\":{\"field\":\"color\"},\"height\":{\"field\":\"height\",\"units\":\"data\"},\"line_color\":{\"field\":\"line_color\"},\"width\":{\"field\":\"width\",\"units\":\"data\"},\"x\":{\"field\":\"x\"},\"y\":{\"field\":\"y\"}},\"id\":\"c526d493-c868-4116-8e4e-1a65cea8c1d1\",\"type\":\"Rect\"},{\"attributes\":{\"dimension\":1,\"plot\":{\"id\":\"af59652a-b34f-42cf-b564-05d621769b87\",\"subtype\":\"Chart\",\"type\":\"Plot\"},\"ticker\":{\"id\":\"6ce3ee07-e541-40b0-89de-6e643cf18a54\",\"type\":\"BasicTicker\"}},\"id\":\"e3631787-bcb4-45d7-9bca-4c3655dec144\",\"type\":\"Grid\"},{\"attributes\":{\"bottom_units\":\"screen\",\"fill_alpha\":{\"value\":0.5},\"fill_color\":{\"value\":\"lightgrey\"},\"left_units\":\"screen\",\"level\":\"overlay\",\"line_alpha\":{\"value\":1.0},\"line_color\":{\"value\":\"black\"},\"line_dash\":[4,4],\"line_width\":{\"value\":2},\"plot\":null,\"render_mode\":\"css\",\"right_units\":\"screen\",\"top_units\":\"screen\"},\"id\":\"c6d6058f-7882-4c11-bf4b-66294a4a789c\",\"type\":\"BoxAnnotation\"},{\"attributes\":{\"fill_alpha\":{\"field\":\"fill_alpha\"},\"fill_color\":{\"field\":\"color\"},\"height\":{\"field\":\"height\",\"units\":\"data\"},\"line_color\":{\"field\":\"line_color\"},\"width\":{\"field\":\"width\",\"units\":\"data\"},\"x\":{\"field\":\"x\"},\"y\":{\"field\":\"y\"}},\"id\":\"39a9621b-a92f-4d44-9a54-06c61aee789a\",\"type\":\"Rect\"},{\"attributes\":{\"callback\":null,\"column_names\":[\"x\",\"fill_alpha\",\"line_alpha\",\"label\",\"width\",\"color\",\"height\",\"line_color\",\"y\"],\"data\":{\"TagName\":[\"qgis\"],\"chart_index\":[{\"TagName\":\"qgis\"}],\"color\":[\"darkviolet\"],\"fill_alpha\":[0.8],\"height\":[16285.0],\"label\":[{\"TagName\":\"qgis\"}],\"line_alpha\":[1.0],\"line_color\":[\"white\"],\"width\":[0.8],\"x\":[\"qgis\"],\"y\":[8142.5]}},\"id\":\"13439b4a-da80-4ba7-89b7-395f259ba013\",\"type\":\"ColumnDataSource\"},{\"attributes\":{\"callback\":null,\"column_names\":[\"x\",\"fill_alpha\",\"line_alpha\",\"label\",\"width\",\"color\",\"height\",\"line_color\",\"y\"],\"data\":{\"TagName\":[\"openlayers-2\"],\"chart_index\":[{\"TagName\":\"openlayers-2\"}],\"color\":[\"darkviolet\"],\"fill_alpha\":[0.8],\"height\":[3270.0],\"label\":[{\"TagName\":\"openlayers-2\"}],\"line_alpha\":[1.0],\"line_color\":[\"white\"],\"width\":[0.8],\"x\":[\"openlayers-2\"],\"y\":[1635.0]}},\"id\":\"6a3fc285-709f-4584-b607-d87547760e3c\",\"type\":\"ColumnDataSource\"},{\"attributes\":{\"plot\":{\"id\":\"af59652a-b34f-42cf-b564-05d621769b87\",\"subtype\":\"Chart\",\"type\":\"Plot\"}},\"id\":\"f1ec6c14-87cc-43c2-900e-2618e0cceeda\",\"type\":\"ResetTool\"}],\"root_ids\":[\"af59652a-b34f-42cf-b564-05d621769b87\"]},\"title\":\"Bokeh Application\",\"version\":\"0.12.4\"}};\n",
       "            var render_items = [{\"docid\":\"094c63c2-f2fa-4a64-8222-af11c12bb19d\",\"elementid\":\"e2ff04b8-12fd-46f4-99b5-7b3f22a28c03\",\"modelid\":\"af59652a-b34f-42cf-b564-05d621769b87\"}];\n",
       "            \n",
       "            Bokeh.embed.embed_items(docs_json, render_items);\n",
       "          };\n",
       "          if (document.readyState != \"loading\") fn();\n",
       "          else document.addEventListener(\"DOMContentLoaded\", fn);\n",
       "        })();\n",
       "      },\n",
       "      function(Bokeh) {\n",
       "      }\n",
       "    ];\n",
       "  \n",
       "    function run_inline_js() {\n",
       "      \n",
       "      if ((window.Bokeh !== undefined) || (force === true)) {\n",
       "        for (var i = 0; i < inline_js.length; i++) {\n",
       "          inline_js[i](window.Bokeh);\n",
       "        }if (force === true) {\n",
       "          display_loaded();\n",
       "        }} else if (Date.now() < window._bokeh_timeout) {\n",
       "        setTimeout(run_inline_js, 100);\n",
       "      } else if (!window._bokeh_failed_load) {\n",
       "        console.log(\"Bokeh: BokehJS failed to load within specified timeout.\");\n",
       "        window._bokeh_failed_load = true;\n",
       "      } else if (force !== true) {\n",
       "        var cell = $(document.getElementById(\"e2ff04b8-12fd-46f4-99b5-7b3f22a28c03\")).parents('.cell').data().cell;\n",
       "        cell.output_area.append_execute_result(NB_LOAD_WARNING)\n",
       "      }\n",
       "  \n",
       "    }\n",
       "  \n",
       "    if (window._bokeh_is_loading === 0) {\n",
       "      console.log(\"Bokeh: BokehJS loaded, going straight to plotting\");\n",
       "      run_inline_js();\n",
       "    } else {\n",
       "      load_libs(js_urls, function() {\n",
       "        console.log(\"Bokeh: BokehJS plotting callback run at\", now());\n",
       "        run_inline_js();\n",
       "      });\n",
       "    }\n",
       "  }(this));\n",
       "</script>"
      ]
     },
     "metadata": {},
     "output_type": "display_data"
    }
   ],
   "source": [
    "output_notebook()\n",
    "plot = Bar(popular_tags.head(20), 'TagName', values='Count', \\\n",
    "           title=\"Najpopularniejsze tagi na forum GIS\", legend=False, color=\"darkviolet\", \\\n",
    "           ylabel='Liczba postów', xlabel='Tag (nazwa)')\n",
    "show(plot)"
   ]
  },
  {
   "cell_type": "code",
   "execution_count": null,
   "metadata": {
    "collapsed": true,
    "deletable": true,
    "editable": true
   },
   "outputs": [],
   "source": [
    "# Wstępna weryfikacja danych / zapytań"
   ]
  },
  {
   "cell_type": "code",
   "execution_count": null,
   "metadata": {
    "collapsed": false,
    "deletable": true,
    "editable": true
   },
   "outputs": [],
   "source": [
    "posts.filter(posts.Tags.rlike(r'\\bpostgis\\b')).count()"
   ]
  },
  {
   "cell_type": "code",
   "execution_count": null,
   "metadata": {
    "collapsed": false,
    "deletable": true,
    "editable": true
   },
   "outputs": [],
   "source": [
    "posts.count()"
   ]
  },
  {
   "cell_type": "code",
   "execution_count": null,
   "metadata": {
    "collapsed": true,
    "deletable": true,
    "editable": true
   },
   "outputs": [],
   "source": [
    "# Zapytanie dla jednego produktu GIS (tu tag 'arcgis-desktop'):\n",
    "gis_posts_data = posts.filter(posts.Tags.rlike(r'\\barcgis-desktop\\b')) \\\n",
    "    .select(concat_ws('.', year(\"CreationDate\"), \\\n",
    "                           lpad(month(\"CreationDate\"), 2, \"0\")).alias('Months')) \\\n",
    "    .groupBy('Months').count().sort('Months').toPandas()\n",
    "\n",
    "gis_posts_data.rename(columns={'count': 'ArcGIS'}, inplace=True)\n",
    "\n",
    "# Można dodać kolejną kolumnę z danymi do DF:\n",
    "# arcgis_desktop['PostGIS'] = postgis['PostGIS']"
   ]
  },
  {
   "cell_type": "code",
   "execution_count": null,
   "metadata": {
    "collapsed": true,
    "deletable": true,
    "editable": true
   },
   "outputs": [],
   "source": []
  },
  {
   "cell_type": "code",
   "execution_count": null,
   "metadata": {
    "collapsed": true,
    "deletable": true,
    "editable": true
   },
   "outputs": [],
   "source": [
    "# Dla kilku produktów: iterujemy po liście tagów i składamy kolejne kolumny w DF pandas"
   ]
  },
  {
   "cell_type": "code",
   "execution_count": null,
   "metadata": {
    "collapsed": false,
    "deletable": true,
    "editable": true
   },
   "outputs": [],
   "source": [
    "gis_products = ['qgis', 'arcgis-desktop', 'postgis', 'openstreetmap', 'grass', 'google-maps']\n",
    "# gis_percentages = ['%{0}'.format(i) for i in gis_products]"
   ]
  },
  {
   "cell_type": "code",
   "execution_count": null,
   "metadata": {
    "collapsed": false,
    "deletable": true,
    "editable": true
   },
   "outputs": [],
   "source": [
    "# Analiza dla produktów ArcGIS (różne wersje w tagach)\n",
    "gis_products = ['arcgis-desktop', 'arcgis-server', 'arcgis-10.0', \\\n",
    "                'arcgis-10.1', 'arcgis-10.2', 'arcgis-10.3' ,'arcgis-javascript-api']"
   ]
  },
  {
   "cell_type": "code",
   "execution_count": null,
   "metadata": {
    "collapsed": true,
    "deletable": true,
    "editable": true
   },
   "outputs": [],
   "source": []
  },
  {
   "cell_type": "code",
   "execution_count": null,
   "metadata": {
    "collapsed": false,
    "deletable": true,
    "editable": true
   },
   "outputs": [],
   "source": [
    "# Wyliczamy totals (dla wszystkich postow) w gis_posts_data.\n",
    "# Dzięki temu mamy DF do którego potem doklejamy kolumny\n",
    "# z wynikami dla innych tagów.\n",
    "print('Wyliczam statystyki dla wszystkich postow.')\n",
    "gis_posts_data = posts.filter(posts.Tags.isNotNull()).select(concat_ws('.', year(\"CreationDate\"), \\\n",
    "                              lpad(month(\"CreationDate\"), 2, \"0\")).alias('Months')) \\\n",
    "                      .groupBy('Months').count().sort('Months').toPandas()\n",
    "\n",
    "gis_posts_data.rename(columns={'count': 'wszystkie'}, inplace=True)\n",
    "\n",
    "for gis_p in gis_products:\n",
    "    print('Wyliczam posty dla produktu: {0}'.format(gis_p))\n",
    "    product_posts = posts.filter(posts.Tags.isNotNull() & posts.Tags.rlike(r'\\b{0}\\b'.format(gis_p))) \\\n",
    "        .select(concat_ws('.', year(\"CreationDate\"), lpad(month(\"CreationDate\"), 2, \"0\")).alias('Months')) \\\n",
    "        .groupBy('Months').count().sort('Months').toPandas()\n",
    "    product_posts.rename(columns={'count': gis_p}, inplace=True)\n",
    "    gis_posts_data = pd.merge(gis_posts_data, product_posts, on='Months', how='outer')\n",
    "\n",
    "print('Gotowe.')"
   ]
  },
  {
   "cell_type": "code",
   "execution_count": null,
   "metadata": {
    "collapsed": false,
    "deletable": true,
    "editable": true
   },
   "outputs": [],
   "source": [
    "product_posts"
   ]
  },
  {
   "cell_type": "code",
   "execution_count": null,
   "metadata": {
    "collapsed": false,
    "deletable": true,
    "editable": true
   },
   "outputs": [],
   "source": [
    "gis_posts_data"
   ]
  },
  {
   "cell_type": "code",
   "execution_count": null,
   "metadata": {
    "collapsed": false,
    "deletable": true,
    "editable": true
   },
   "outputs": [],
   "source": [
    "# Test funkcji .rolling:\n",
    "gis_posts_data.rolling(on='Months', window=5).mean()"
   ]
  },
  {
   "cell_type": "code",
   "execution_count": null,
   "metadata": {
    "collapsed": false,
    "deletable": true,
    "editable": true
   },
   "outputs": [],
   "source": [
    "# Obliczanie % postow dla produktu ws totals\n",
    "# np. dla produktu qgis obliczamy qgis_p jako\n",
    "# (qgis / wszystkie) * 100%\n",
    "for gis_p in gis_products:\n",
    "    gis_posts_data['%' + gis_p] = (gis_posts_data[gis_p].fillna(0) \\\n",
    "                                   / gis_posts_data.wszystkie) * 100"
   ]
  },
  {
   "cell_type": "code",
   "execution_count": null,
   "metadata": {
    "collapsed": false,
    "deletable": true,
    "editable": true
   },
   "outputs": [],
   "source": [
    "gis_posts_data"
   ]
  },
  {
   "cell_type": "code",
   "execution_count": null,
   "metadata": {
    "collapsed": false,
    "deletable": true,
    "editable": true
   },
   "outputs": [],
   "source": []
  },
  {
   "cell_type": "code",
   "execution_count": null,
   "metadata": {
    "collapsed": false,
    "deletable": true,
    "editable": true
   },
   "outputs": [],
   "source": [
    "# Trend czasowy -- posty na miesiąc\n",
    "output_notebook()\n",
    "\n",
    "#tsline = TimeSeries(gis_posts_data, x='Months', y=['wszystkie'] + gis_products, \\\n",
    "#         title=\"Posty na miesiąc\", xlabel='Data (miesiące)', ylabel='Produkty GIS', legend=True)\n",
    "tsline = TimeSeries(gis_posts_data, x='Months', y=gis_products, \\\n",
    "         title=\"Posty na miesiąc (liczba)\", xlabel='Data (miesiące)', ylabel='Produkty GIS', legend=True)\n",
    "\n",
    "show(column(tsline))"
   ]
  },
  {
   "cell_type": "code",
   "execution_count": null,
   "metadata": {
    "collapsed": false,
    "deletable": true,
    "editable": true
   },
   "outputs": [],
   "source": [
    "# Trend czasowy wygładzony -- posty na miesiąc\n",
    "output_notebook()\n",
    "\n",
    "#tsline = TimeSeries(gis_posts_data, x='Months', y=['wszystkie'] + gis_products, \\\n",
    "#         title=\"Posty na miesiąc\", xlabel='Data (miesiące)', ylabel='Produkty GIS', legend=True)\n",
    "tsline = TimeSeries(gis_posts_data.rolling(on='Months', window=4).mean(), x='Months', y=gis_products, \\\n",
    "         title=\"Posty na miesiąc (liczba), wygładzone\", \\\n",
    "         xlabel='Data (miesiące)', ylabel='Produkty GIS', legend=True)\n",
    "\n",
    "show(column(tsline))"
   ]
  },
  {
   "cell_type": "code",
   "execution_count": null,
   "metadata": {
    "collapsed": false,
    "deletable": true,
    "editable": true
   },
   "outputs": [],
   "source": [
    "# Trend czasowy -- posty na miesiąc w % do całości\n",
    "output_notebook()\n",
    "\n",
    "tsline = TimeSeries(gis_posts_data, x='Months', y=['%{0}'.format(i) for i in gis_products], \\\n",
    "         title=\"Posty na miesiąc (%całosci)\", xlabel='Data (miesiące)', ylabel='Produkty GIS', legend=True)\n",
    "#tsline.xaxis.minor_tick_in = -3\n",
    "#tsline.xaxis.minor_tick_out = 2\n",
    "#tsline.xaxis.major_tick_out = 3\n",
    "\n",
    "#tsline.xgrid.grid_line_color = None\n",
    "tsline.ygrid.grid_line_dash = [6, 4]\n",
    "\n",
    "show(column(tsline))"
   ]
  },
  {
   "cell_type": "code",
   "execution_count": null,
   "metadata": {
    "collapsed": true,
    "deletable": true,
    "editable": true
   },
   "outputs": [],
   "source": [
    "# Ja, jako użytkownik forum, chcę wiedzieć, jak długo zajmie uzyskanie\n",
    "# dobrej odpowiedzi dla danego produktu (lista produktów).\n",
    "#\n",
    "# ile czasu upływa od zadania pytania\n",
    "# do uzyskania zaakceptowanej odpowiedzi (dla tagów / produktów typu ArcGIS -- wykres??)."
   ]
  },
  {
   "cell_type": "code",
   "execution_count": null,
   "metadata": {
    "collapsed": true,
    "deletable": true,
    "editable": true
   },
   "outputs": [],
   "source": [
    "# Wyznaczenie czasu do zaakceptowanej odpowiedzi dla produktu\n",
    "# najpierw filter\n",
    "# potem oblicz\n",
    "\n"
   ]
  },
  {
   "cell_type": "code",
   "execution_count": null,
   "metadata": {
    "collapsed": false,
    "deletable": true,
    "editable": true
   },
   "outputs": [],
   "source": [
    "# Czas odpowiedzi\n",
    "# posts -- PostTypeId = 1 (Question), 2 (Answer)\n",
    "\n",
    "questions = posts.select(posts.Id, posts.AcceptedAnswerId,\\\n",
    "                         posts.CreationDate.alias('QuestionDate'),\\\n",
    "                         posts.Tags).where(posts.PostTypeId == 1)\n",
    "\n",
    "# alias('Parent') to obejście problemu\n",
    "# org.apache.spark.sql.AnalysisException:\n",
    "# resolved attribute(s) ID missing from ID in operator !Join\n",
    "# https://issues.apache.org/jira/browse/SPARK-10925\n",
    "answers = posts.select(posts.Id.alias('AnswerId'), posts.ParentId.alias('Parent'),\\\n",
    "                       posts.CreationDate.alias('AnswerDate')).where(posts.PostTypeId == 2)"
   ]
  },
  {
   "cell_type": "code",
   "execution_count": null,
   "metadata": {
    "collapsed": false,
    "deletable": true,
    "editable": true
   },
   "outputs": [],
   "source": [
    "questions.printSchema()\n",
    "answers.printSchema()"
   ]
  },
  {
   "cell_type": "code",
   "execution_count": null,
   "metadata": {
    "collapsed": true,
    "deletable": true,
    "editable": true
   },
   "outputs": [],
   "source": [
    "# UDF do obliczenia różnicy czasu (w sekundach)\n",
    "# x, y -- datetime\n",
    "def time_delta(x, y):\n",
    "    delta = int((y - x).total_seconds())\n",
    "    return delta\n",
    "\n",
    "time_delta_udf = udf(time_delta, returnType = IntegerType())"
   ]
  },
  {
   "cell_type": "code",
   "execution_count": null,
   "metadata": {
    "collapsed": false,
    "deletable": true,
    "editable": true
   },
   "outputs": [],
   "source": [
    "# join jest dla wszystkich odpowiedzi (a nie tylko AcceptedAnswer)\n",
    "joined = questions.join(answers, questions.Id == answers.Parent)\n",
    "#         .select(questions.Id, questions.AcceptedAnswerId, questions.CreationDate, answers.CreationDate)\n",
    "\n",
    "# dla zaakceptowanych trzeba użyć filtr AcceptedAnswerId.isNotNull()\n",
    "#df = questions.join(answers, questions.Id == answers.Parent).filter(col('AcceptedAnswerId').isNotNull()).count()"
   ]
  },
  {
   "cell_type": "code",
   "execution_count": null,
   "metadata": {
    "collapsed": false,
    "deletable": true,
    "editable": true
   },
   "outputs": [],
   "source": [
    "# Posty \"merged\" mają często zamienione oryginalne pytanie z późniejszym,\n",
    "# co sprawia, że czas odpowiedzi jest przed czasem zadania pytania.\n",
    "# Przykład:\n",
    "# https://gis.stackexchange.com/questions/124794/installing-qgis-with-ecw-support-on-mac\n",
    "# w dumpie z 14 marca ma 2 dodatkowe linki (merge)\n",
    "# trzeba znaleźć posty, które w post_history mają PostHistoryTypeId == 37 lub == 38"
   ]
  },
  {
   "cell_type": "code",
   "execution_count": null,
   "metadata": {
    "collapsed": false,
    "deletable": true,
    "editable": true
   },
   "outputs": [],
   "source": [
    "post_history.printSchema()"
   ]
  },
  {
   "cell_type": "code",
   "execution_count": null,
   "metadata": {
    "collapsed": false,
    "deletable": true,
    "editable": true
   },
   "outputs": [],
   "source": [
    "# Liczba merged_posts źródłowych i docelowych.\n",
    "# Posty mające w historii (tabela post_history):\n",
    "# PostHistoryTypeId\n",
    "# 37. Post merge source\n",
    "# 38. Post merge destination\n",
    "post_history.where((post_history.PostHistoryTypeId == 37) | (post_history.PostHistoryTypeId == 38)).count()"
   ]
  },
  {
   "cell_type": "code",
   "execution_count": null,
   "metadata": {
    "collapsed": false,
    "deletable": true,
    "editable": true
   },
   "outputs": [],
   "source": [
    "# (Za dużo otwartych plików)\n",
    "# questions.join(post_history, questions.Id == post_history.PostId).count()"
   ]
  },
  {
   "cell_type": "code",
   "execution_count": null,
   "metadata": {
    "collapsed": false,
    "deletable": true,
    "editable": true
   },
   "outputs": [],
   "source": [
    "# (Za dużo otwartych plików)\n",
    "# posts.join(post_history, posts.Id == post_history.PostId).first()\n",
    "\n",
    "#                            .filter(col('AcceptedAnswerId').isNotNull())\\\n"
   ]
  },
  {
   "cell_type": "code",
   "execution_count": null,
   "metadata": {
    "collapsed": false,
    "deletable": true,
    "editable": true
   },
   "outputs": [],
   "source": [
    "# ze zbioru postów należy usunąć posty: zmerdżowane (merged)\n",
    "# oraz duplikaty (duplicate). Merged mają często ujemne czasy\n",
    "# odpowiedzi, duplikaty -- bardzo długie czasy (jeśli np. nowy\n",
    "# post jest duplikatem starego postu)\n",
    "merged_posts_ids = post_history.select(post_history.PostId) \\\n",
    "                   .where((post_history.PostHistoryTypeId == 37) | \\\n",
    "                          (post_history.PostHistoryTypeId == 38))\n",
    "\n",
    "duplicate_posts_ids = post_links.select(post_links.PostId).where(post_links.LinkTypeId == 3)\n",
    "\n",
    "remove_ids = merged_posts_ids.union(duplicate_posts_ids).distinct()"
   ]
  },
  {
   "cell_type": "code",
   "execution_count": null,
   "metadata": {
    "collapsed": false,
    "deletable": true,
    "editable": true
   },
   "outputs": [],
   "source": [
    "remove_ids.count()"
   ]
  },
  {
   "cell_type": "code",
   "execution_count": null,
   "metadata": {
    "collapsed": false,
    "deletable": true,
    "editable": true
   },
   "outputs": [],
   "source": [
    "posts.count()"
   ]
  },
  {
   "cell_type": "code",
   "execution_count": null,
   "metadata": {
    "collapsed": true,
    "deletable": true,
    "editable": true
   },
   "outputs": [],
   "source": [
    "#  anti_join using a dataframe:\n",
    "#    tbl1.as(\"a\").join(tbl2.as(\"b\"), $\"a.id\" === $\"b.id\", \"left_anti\")\n",
    "# This PR provides serves as the basis for implementing `NOT EXISTS` and `NOT IN \n",
    "# (...)` correlated sub-queries. It would also serve as good basis for \n",
    "# implementing an more efficient `EXCEPT` operator.\n",
    "posts_nd = posts.join(remove_ids, posts.Id == remove_ids.PostId, 'left_anti')"
   ]
  },
  {
   "cell_type": "code",
   "execution_count": null,
   "metadata": {
    "collapsed": false,
    "deletable": true,
    "editable": true
   },
   "outputs": [],
   "source": [
    "posts_nd.count()"
   ]
  },
  {
   "cell_type": "code",
   "execution_count": null,
   "metadata": {
    "collapsed": true,
    "deletable": true,
    "editable": true
   },
   "outputs": [],
   "source": [
    "questions = posts_nd.select(posts_nd.Id, posts_nd.AcceptedAnswerId,\\\n",
    "                         posts_nd.CreationDate.alias('QuestionDate'),\\\n",
    "                         posts_nd.Tags).where(posts_nd.PostTypeId == 1)"
   ]
  },
  {
   "cell_type": "code",
   "execution_count": null,
   "metadata": {
    "collapsed": false,
    "deletable": true,
    "editable": true
   },
   "outputs": [],
   "source": [
    "questions.count()"
   ]
  },
  {
   "cell_type": "code",
   "execution_count": null,
   "metadata": {
    "collapsed": true,
    "deletable": true,
    "editable": true
   },
   "outputs": [],
   "source": []
  },
  {
   "cell_type": "code",
   "execution_count": null,
   "metadata": {
    "collapsed": true,
    "deletable": true,
    "editable": true
   },
   "outputs": [],
   "source": []
  },
  {
   "cell_type": "code",
   "execution_count": null,
   "metadata": {
    "collapsed": false,
    "deletable": true,
    "editable": true
   },
   "outputs": [],
   "source": [
    "questions.count()"
   ]
  },
  {
   "cell_type": "code",
   "execution_count": null,
   "metadata": {
    "collapsed": false,
    "deletable": true,
    "editable": true
   },
   "outputs": [],
   "source": [
    "answers.count()"
   ]
  },
  {
   "cell_type": "code",
   "execution_count": null,
   "metadata": {
    "collapsed": false,
    "deletable": true,
    "editable": true
   },
   "outputs": [],
   "source": [
    "merged_posts_ids.count()"
   ]
  },
  {
   "cell_type": "code",
   "execution_count": null,
   "metadata": {
    "collapsed": false,
    "deletable": true,
    "editable": true
   },
   "outputs": [],
   "source": [
    "#  anti_join using a dataframe:\n",
    "#    tbl1.as(\"a\").join(tbl2.as(\"b\"), $\"a.id\" === $\"b.id\", \"left_anti\")\n",
    "# This PR provides serves as the basis for implementing `NOT EXISTS` and `NOT IN \n",
    "# (...)` correlated sub-queries. It would also serve as good basis for \n",
    "# implementing an more efficient `EXCEPT` operator.\n",
    "\n",
    "questions_nm = questions.join(merged_posts_ids, questions.Id == merged_posts_ids.PostId, 'left_anti')"
   ]
  },
  {
   "cell_type": "code",
   "execution_count": null,
   "metadata": {
    "collapsed": false,
    "deletable": true,
    "editable": true
   },
   "outputs": [],
   "source": [
    "answers_nm = answers.join(merged_posts_ids, answers.AnswerId == merged_posts_ids.PostId, 'left_anti')"
   ]
  },
  {
   "cell_type": "code",
   "execution_count": null,
   "metadata": {
    "collapsed": false,
    "deletable": true,
    "editable": true
   },
   "outputs": [],
   "source": [
    "questions_nm.count()"
   ]
  },
  {
   "cell_type": "code",
   "execution_count": null,
   "metadata": {
    "collapsed": true,
    "deletable": true,
    "editable": true
   },
   "outputs": [],
   "source": []
  },
  {
   "cell_type": "code",
   "execution_count": null,
   "metadata": {
    "collapsed": false,
    "deletable": true,
    "editable": true
   },
   "outputs": [],
   "source": [
    "# prosty test po joinie. juz nie mamy df joined (do usuniecia) -- chodzi o pokazanie zasady\n",
    "# joined_timedelta = joined.withColumn('TimeDelta', time_delta_udf(joined.QuestionDate, joined.AnswerDate))"
   ]
  },
  {
   "cell_type": "code",
   "execution_count": null,
   "metadata": {
    "collapsed": false,
    "deletable": true,
    "editable": true
   },
   "outputs": [],
   "source": [
    "# tylko z zaakceptowanymi odpowiedziami (ale uwzględnia pozostałe odpowiedzi dla pytania)\n",
    "joined_timedelta = \\\n",
    "    questions_nm.join(answers_nm, questions_nm.Id == answers_nm.Parent) \\\n",
    "    .filter(col('AcceptedAnswerId').isNotNull()) \\\n",
    "    .withColumn('TimeDelta', time_delta_udf(questions_nm.QuestionDate, answers_nm.AnswerDate))"
   ]
  },
  {
   "cell_type": "code",
   "execution_count": null,
   "metadata": {
    "collapsed": false,
    "deletable": true,
    "editable": true
   },
   "outputs": [],
   "source": [
    "# tylko dla zaakceptowanych odpowiedzi\n",
    "joined_timedelta = \\\n",
    "    questions_nm.join(answers_nm, questions_nm.Id == answers_nm.Parent) \\\n",
    "    .filter(col('AcceptedAnswerId').isNotNull() & (col('AcceptedAnswerId') == col('AnswerId'))) \\\n",
    "    .withColumn('TimeDelta', time_delta_udf(questions_nm.QuestionDate, answers_nm.AnswerDate))"
   ]
  },
  {
   "cell_type": "code",
   "execution_count": null,
   "metadata": {
    "collapsed": false,
    "deletable": true,
    "editable": true
   },
   "outputs": [],
   "source": [
    "# wszystkie z odpowiedziami (nie tylko zaakceptowanymi)\n",
    "joined_timedelta = questions_nm.join(answers_nm, questions_nm.Id == answers_nm.Parent) \\\n",
    "                               .withColumn('TimeDelta', time_delta_udf(questions_nm.QuestionDate, answers_nm.AnswerDate))"
   ]
  },
  {
   "cell_type": "code",
   "execution_count": null,
   "metadata": {
    "collapsed": false,
    "deletable": true,
    "editable": true
   },
   "outputs": [],
   "source": [
    "joined_timedelta.printSchema()"
   ]
  },
  {
   "cell_type": "code",
   "execution_count": null,
   "metadata": {
    "collapsed": false,
    "deletable": true,
    "editable": true
   },
   "outputs": [],
   "source": [
    "joined_timedelta.count()"
   ]
  },
  {
   "cell_type": "code",
   "execution_count": null,
   "metadata": {
    "collapsed": false,
    "deletable": true,
    "editable": true
   },
   "outputs": [],
   "source": [
    "joined_timedelta.where(joined_timedelta.TimeDelta > 0).count()"
   ]
  },
  {
   "cell_type": "code",
   "execution_count": null,
   "metadata": {
    "collapsed": false,
    "deletable": true,
    "editable": true
   },
   "outputs": [],
   "source": [
    "joined_timedelta.collect()"
   ]
  },
  {
   "cell_type": "code",
   "execution_count": null,
   "metadata": {
    "collapsed": true,
    "deletable": true,
    "editable": true
   },
   "outputs": [],
   "source": [
    "quantiles = [0.0, 0.25, 0.5, 0.75, 1.0]\n",
    "qlabels = [\"q\"+str(int(q * 100)) for q in quantiles]"
   ]
  },
  {
   "cell_type": "code",
   "execution_count": null,
   "metadata": {
    "collapsed": false,
    "deletable": true,
    "editable": true
   },
   "outputs": [],
   "source": [
    "joined_timedelta.approxQuantile('TimeDelta', quantiles, 0)"
   ]
  },
  {
   "cell_type": "code",
   "execution_count": null,
   "metadata": {
    "collapsed": false,
    "deletable": true,
    "editable": true
   },
   "outputs": [],
   "source": [
    "joined_timedelta.where(joined_timedelta.TimeDelta > 0).approxQuantile('TimeDelta', quantiles, 0)"
   ]
  },
  {
   "cell_type": "code",
   "execution_count": null,
   "metadata": {
    "collapsed": false,
    "deletable": true,
    "editable": true
   },
   "outputs": [],
   "source": [
    "joined_timedelta.where((joined_timedelta.TimeDelta > 0) & posts.Tags.rlike(r'\\b{0}\\b'.format('qgis'))) \\\n",
    "                       .approxQuantile('TimeDelta', quantiles, 0)"
   ]
  },
  {
   "cell_type": "code",
   "execution_count": null,
   "metadata": {
    "collapsed": false,
    "deletable": true,
    "editable": true
   },
   "outputs": [],
   "source": [
    "joined_timedelta.where((joined_timedelta.TimeDelta > 0) & posts.Tags.rlike(r'\\b{0}\\b'.format('qgis')))\\\n",
    "                .sort(joined_timedelta.TimeDelta, ascending=False).collect()"
   ]
  },
  {
   "cell_type": "code",
   "execution_count": null,
   "metadata": {
    "collapsed": false,
    "deletable": true,
    "editable": true
   },
   "outputs": [],
   "source": [
    "posts.where(posts.Id == 7078).collect()"
   ]
  },
  {
   "cell_type": "code",
   "execution_count": null,
   "metadata": {
    "collapsed": false,
    "deletable": true,
    "editable": true
   },
   "outputs": [],
   "source": [
    "post_history.where(post_history.PostId == 7087).collect()"
   ]
  },
  {
   "cell_type": "code",
   "execution_count": null,
   "metadata": {
    "collapsed": false,
    "deletable": true,
    "editable": true
   },
   "outputs": [],
   "source": []
  },
  {
   "cell_type": "code",
   "execution_count": null,
   "metadata": {
    "collapsed": false,
    "deletable": true,
    "editable": true
   },
   "outputs": [],
   "source": [
    "# df.groupBy('column').count().rdd.values().histogram()\n",
    "\n",
    "hist_v = joined_timedelta.groupBy(joined_timedelta.TimeDelta).count().rdd.values().histogram(40)"
   ]
  },
  {
   "cell_type": "code",
   "execution_count": null,
   "metadata": {
    "collapsed": false,
    "deletable": true,
    "editable": true
   },
   "outputs": [],
   "source": [
    "count_timedelta = joined_timedelta.groupBy(joined_timedelta.TimeDelta).count() \\\n",
    "                         .select(col('TimeDelta'), col('count').alias('Count'))"
   ]
  },
  {
   "cell_type": "code",
   "execution_count": null,
   "metadata": {
    "collapsed": false,
    "deletable": true,
    "editable": true
   },
   "outputs": [],
   "source": [
    "count_timedelta.toPandas()"
   ]
  },
  {
   "cell_type": "code",
   "execution_count": null,
   "metadata": {
    "collapsed": true,
    "deletable": true,
    "editable": true
   },
   "outputs": [],
   "source": []
  },
  {
   "cell_type": "code",
   "execution_count": null,
   "metadata": {
    "collapsed": true,
    "deletable": true,
    "editable": true
   },
   "outputs": [],
   "source": []
  },
  {
   "cell_type": "code",
   "execution_count": null,
   "metadata": {
    "collapsed": true,
    "deletable": true,
    "editable": true
   },
   "outputs": [],
   "source": []
  },
  {
   "cell_type": "code",
   "execution_count": null,
   "metadata": {
    "collapsed": false,
    "deletable": true,
    "editable": true
   },
   "outputs": [],
   "source": [
    "hist_v.printSchema()"
   ]
  },
  {
   "cell_type": "code",
   "execution_count": null,
   "metadata": {
    "collapsed": false,
    "deletable": true,
    "editable": true
   },
   "outputs": [],
   "source": [
    "hist_v.where(hist_v.Count > 1).sort('Count', ascending=False).collect()"
   ]
  },
  {
   "cell_type": "code",
   "execution_count": null,
   "metadata": {
    "collapsed": false,
    "deletable": true,
    "editable": true
   },
   "outputs": [],
   "source": [
    "hist_df = pd.DataFrame(list(zip(list(hist_v)[0], \\\n",
    "                       list(hist_v)[1])), \\\n",
    "                       columns=['bin','frequency'])"
   ]
  },
  {
   "cell_type": "code",
   "execution_count": null,
   "metadata": {
    "collapsed": false,
    "deletable": true,
    "editable": true
   },
   "outputs": [],
   "source": [
    "hist_df"
   ]
  },
  {
   "cell_type": "code",
   "execution_count": null,
   "metadata": {
    "collapsed": false,
    "deletable": true,
    "editable": true
   },
   "outputs": [],
   "source": [
    "output_notebook()\n",
    "\n",
    "plot = Bar(hist_df, 'bin', values='frequency', \\\n",
    "           title=\"Histogram\", legend=False, color=\"darkviolet\", \\\n",
    "           ylabel='Freq', xlabel='Bin')\n",
    "show(plot)"
   ]
  },
  {
   "cell_type": "code",
   "execution_count": null,
   "metadata": {
    "collapsed": true,
    "deletable": true,
    "editable": true
   },
   "outputs": [],
   "source": []
  },
  {
   "cell_type": "code",
   "execution_count": null,
   "metadata": {
    "collapsed": true,
    "deletable": true,
    "editable": true
   },
   "outputs": [],
   "source": []
  },
  {
   "cell_type": "code",
   "execution_count": null,
   "metadata": {
    "collapsed": false,
    "deletable": true,
    "editable": true
   },
   "outputs": [],
   "source": [
    "# .min() -- wyszedł problem ze zmergowanymi postami\n",
    "# różnica czasu jest ujemna (!!! trzeba odfiltrować merged_posts!!!)\n",
    "joined_timedelta.select(joined_timedelta.TimeDelta).groupBy().mean().collect()"
   ]
  },
  {
   "cell_type": "code",
   "execution_count": null,
   "metadata": {
    "collapsed": false,
    "deletable": true,
    "editable": true
   },
   "outputs": [],
   "source": [
    "joined_timedelta.where(joined_timedelta.TimeDelta == 0).count()"
   ]
  },
  {
   "cell_type": "code",
   "execution_count": null,
   "metadata": {
    "collapsed": false,
    "deletable": true,
    "editable": true
   },
   "outputs": [],
   "source": [
    "posts.where(posts.Id == 203380).collect()"
   ]
  },
  {
   "cell_type": "code",
   "execution_count": null,
   "metadata": {
    "collapsed": false,
    "deletable": true,
    "editable": true
   },
   "outputs": [],
   "source": [
    "post_history.where(post_history.PostId == 203381).collect()"
   ]
  },
  {
   "cell_type": "code",
   "execution_count": null,
   "metadata": {
    "collapsed": true,
    "deletable": true,
    "editable": true
   },
   "outputs": [],
   "source": []
  },
  {
   "cell_type": "code",
   "execution_count": null,
   "metadata": {
    "collapsed": false,
    "deletable": true,
    "editable": true
   },
   "outputs": [],
   "source": [
    "# wszystkie z filtrem merged_posts_ids\n",
    "\n",
    "# the `in` operator in pyspark is broken (2.2.0)\n",
    "# https://issues.apache.org/jira/browse/SPARK-19701\n",
    "# Funkcjonalność usunięta:\n",
    "# https://github.com/apache/spark/pull/17160\n",
    "#\n",
    "# trzeba użyć:\n",
    "# http://takwatanabe.me/pyspark/generated/generated/sql.functions.array_contains.html\n",
    "\n",
    "#questions.filter([x for x in merged_posts_ids]).show()\n",
    "\n",
    "# The ANTI JOIN – all values from table1 where not in table2 ????????????\n",
    "# http://blog.montmere.com/2010/12/08/the-anti-join-all-values-from-table1-where-not-in-table2/\n",
    "\n",
    "#.join(answers, questions.Id == answers.Parent) \\\n",
    "#                            .withColumn('TimeDelta', time_delta_udf(questions.QuestionDate, answers.AnswerDate))"
   ]
  },
  {
   "cell_type": "code",
   "execution_count": null,
   "metadata": {
    "collapsed": false,
    "deletable": true,
    "editable": true
   },
   "outputs": [],
   "source": [
    "joined_timedelta.collect()"
   ]
  },
  {
   "cell_type": "code",
   "execution_count": null,
   "metadata": {
    "collapsed": false,
    "deletable": true,
    "editable": true
   },
   "outputs": [],
   "source": [
    "joined_timedelta.select(min(joined_timedelta.TimeDelta)).collect()"
   ]
  },
  {
   "cell_type": "code",
   "execution_count": null,
   "metadata": {
    "collapsed": false,
    "deletable": true,
    "editable": true
   },
   "outputs": [],
   "source": [
    "joined_timedelta.where(joined_timedelta.TimeDelta == -110165685).collect()"
   ]
  },
  {
   "cell_type": "code",
   "execution_count": null,
   "metadata": {
    "collapsed": false,
    "deletable": true,
    "editable": true
   },
   "outputs": [],
   "source": [
    "posts.where(posts.Id == 124794).collect()"
   ]
  },
  {
   "cell_type": "code",
   "execution_count": null,
   "metadata": {
    "collapsed": false,
    "deletable": true,
    "editable": true
   },
   "outputs": [],
   "source": []
  },
  {
   "cell_type": "code",
   "execution_count": null,
   "metadata": {
    "collapsed": true,
    "deletable": true,
    "editable": true
   },
   "outputs": [],
   "source": [
    "\n",
    "# jesli w historii jest 37, 38, to są to zmerdżowane posty\n",
    "# 37 źródło, 38 cel, 38 jest starszy?\n",
    "\n",
    "# do obliczen czasu trzeba usunac duplikaty\n",
    "# ale org posty nie maja odpowiedzi?\n"
   ]
  },
  {
   "cell_type": "code",
   "execution_count": null,
   "metadata": {
    "collapsed": false,
    "deletable": true,
    "editable": true
   },
   "outputs": [],
   "source": [
    "post_links.where(post_links.RelatedPostId == 124794).collect()"
   ]
  },
  {
   "cell_type": "code",
   "execution_count": null,
   "metadata": {
    "collapsed": false,
    "deletable": true,
    "editable": true
   },
   "outputs": [],
   "source": [
    "post_links.where(post_links.PostId == 43830).collect()"
   ]
  },
  {
   "cell_type": "code",
   "execution_count": null,
   "metadata": {
    "collapsed": true,
    "deletable": true,
    "editable": true
   },
   "outputs": [],
   "source": []
  },
  {
   "cell_type": "code",
   "execution_count": null,
   "metadata": {
    "collapsed": true,
    "deletable": true,
    "editable": true
   },
   "outputs": [],
   "source": []
  },
  {
   "cell_type": "code",
   "execution_count": null,
   "metadata": {
    "collapsed": false,
    "deletable": true,
    "editable": true
   },
   "outputs": [],
   "source": [
    "answers.where(answers.Id == 194).collect()"
   ]
  },
  {
   "cell_type": "code",
   "execution_count": null,
   "metadata": {
    "collapsed": true,
    "deletable": true,
    "editable": true
   },
   "outputs": [],
   "source": [
    "# Reputation histogram!!!\n",
    "\n",
    "#To further study the reason behind the difference in motifs\n",
    "#across forums, we plotted the distribution of users’ reputations\n",
    "#in figure 7. We see that the proportion of intermediate users is\n",
    "#higher in discussion based forums than in fact-based forums,\n",
    "#which explains the higher representation of flat-hierarchy\n",
    "#interactions (e.g. users of similar expertise level help each\n",
    "#other out) in the motifs of Movies, UX, and History."
   ]
  },
  {
   "cell_type": "code",
   "execution_count": null,
   "metadata": {
    "collapsed": true,
    "deletable": true,
    "editable": true
   },
   "outputs": [],
   "source": []
  },
  {
   "cell_type": "code",
   "execution_count": null,
   "metadata": {
    "collapsed": true,
    "deletable": true,
    "editable": true
   },
   "outputs": [],
   "source": []
  },
  {
   "cell_type": "code",
   "execution_count": null,
   "metadata": {
    "collapsed": true,
    "deletable": true,
    "editable": true
   },
   "outputs": [],
   "source": []
  },
  {
   "cell_type": "code",
   "execution_count": null,
   "metadata": {
    "collapsed": true,
    "deletable": true,
    "editable": true
   },
   "outputs": [],
   "source": [
    "# Graf kołowy: (bokeh chord)\n",
    "#The graph we constructed can be succinctly described as\n",
    "#an accepted answers graph. Figure 3 explains how questions\n",
    "#and answers in the forum translate to the graph in our analysis.\n",
    "#A node exists for each user in the forum. For each accepted\n",
    "#answer, there is an edge from the asker to the answerer.\n",
    "#We insert an edge into the graph only if the answer is\n",
    "#accepted, unlike prior analysis on Q&A forums performed\n",
    "#by other studies where there are edges for both accepted and\n",
    "#non-accepted answers."
   ]
  },
  {
   "cell_type": "code",
   "execution_count": null,
   "metadata": {
    "collapsed": true,
    "deletable": true,
    "editable": true
   },
   "outputs": [],
   "source": []
  },
  {
   "cell_type": "code",
   "execution_count": null,
   "metadata": {
    "collapsed": true,
    "deletable": true,
    "editable": true
   },
   "outputs": [],
   "source": []
  }
 ],
 "metadata": {
  "celltoolbar": "Raw Cell Format",
  "kernelspec": {
   "display_name": "Python 3",
   "language": "python",
   "name": "python3"
  },
  "language_info": {
   "codemirror_mode": {
    "name": "ipython",
    "version": 3
   },
   "file_extension": ".py",
   "mimetype": "text/x-python",
   "name": "python",
   "nbconvert_exporter": "python",
   "pygments_lexer": "ipython3",
   "version": "3.5.3"
  }
 },
 "nbformat": 4,
 "nbformat_minor": 2
}
