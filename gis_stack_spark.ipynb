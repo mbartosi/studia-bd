{
 "cells": [
  {
   "cell_type": "code",
   "execution_count": null,
   "metadata": {
    "collapsed": false,
    "deletable": true,
    "editable": true
   },
   "outputs": [],
   "source": [
    "import re\n",
    "import ast\n",
    "import pyspark\n",
    "import time\n",
    "import datetime\n",
    "import html\n",
    "from pyspark import SparkContext\n",
    "from pyspark.sql import *\n",
    "from pyspark.sql.types import *\n",
    "from pyspark.sql.functions import *\n",
    "#visualisation\n",
    "from bokeh.plotting import figure, show, output_file, output_notebook\n",
    "from bokeh.charts import Scatter, Bar, TimeSeries, show, \\\n",
    "                         output_file, output_notebook, color, marker, defaults\n",
    "from bokeh.layouts import column\n",
    "import pandas as pd"
   ]
  },
  {
   "cell_type": "code",
   "execution_count": null,
   "metadata": {
    "collapsed": false,
    "deletable": true,
    "editable": true
   },
   "outputs": [],
   "source": [
    "sc = SparkContext()\n",
    "sqlContext = SQLContext(sc)"
   ]
  },
  {
   "cell_type": "code",
   "execution_count": null,
   "metadata": {
    "collapsed": true,
    "deletable": true,
    "editable": true
   },
   "outputs": [],
   "source": [
    "# Domyślny rozmiar wykresów Bokeh:\n",
    "defaults.width = 900\n",
    "defaults.height = 500"
   ]
  },
  {
   "cell_type": "code",
   "execution_count": null,
   "metadata": {
    "collapsed": true,
    "deletable": true,
    "editable": true
   },
   "outputs": [],
   "source": [
    "# Funkcja pomocnicza: wyszukiwanie podanego atrybutu w linii pliku XML,\n",
    "# zwraca wartość znalezionego atrybutu lub None jeśli atrybut nie istnieje\n",
    "\n",
    "def attribute_search(attribute, string):\n",
    "    result = re.search(attribute + '=\\\"(.*?)\\\"', string)\n",
    "    if result:\n",
    "        return result.group(1).replace('\"', '')\n",
    "    else:\n",
    "        return None"
   ]
  },
  {
   "cell_type": "code",
   "execution_count": null,
   "metadata": {
    "collapsed": true,
    "deletable": true,
    "editable": true
   },
   "outputs": [],
   "source": [
    "# Funkcje pomocnicze: interpretacja plików XML (różne schematy danych)\n",
    "# ze Stackoverflow\n",
    "\n",
    "def tags_from_xml(line):\n",
    "    c = line.replace('<row', '').replace('/>', '')\n",
    "    row = dict()\n",
    "    row['Id'] = int(attribute_search('Id', c))\n",
    "    row['TagName'] = attribute_search('TagName', c)\n",
    "    count = attribute_search('Count', c)\n",
    "    row['Count'] = int(count) if count else None\n",
    "    excerpt = attribute_search('ExcerptPostId', c)\n",
    "    row['ExcerptPostId'] = int(excerpt) if excerpt else None\n",
    "    wiki = attribute_search('WikiPostId', c)\n",
    "    row['WikiPostId'] = int(wiki) if wiki else None\n",
    "    return pyspark.Row(**row)\n",
    "\n",
    "def badges_from_xml(line):\n",
    "    c = line.replace('<row', '').replace('/>', '')\n",
    "    row = dict()\n",
    "    row['Id'] = int(attribute_search('Id', c))\n",
    "    row['UserId'] = int(attribute_search('UserId', c))\n",
    "    row['Name'] = attribute_search('Name', c)\n",
    "    row['Date'] = datetime.datetime.strptime(attribute_search('Date', c), \"%Y-%m-%dT%H:%M:%S.%f\")\n",
    "    row['Class'] = int(attribute_search('Class', c))\n",
    "    row['TagBased'] = ast.literal_eval(attribute_search('TagBased', c))\n",
    "    return pyspark.Row(**row)\n",
    "\n",
    "def users_from_xml(line):\n",
    "    c = line.replace('<row', '').replace('/>', '')\n",
    "    row = dict()\n",
    "    row['Id'] = int(attribute_search('Id', c))\n",
    "    row['Reputation'] = int(attribute_search('Reputation', c))\n",
    "    row['CreationDate'] = datetime.datetime.strptime(attribute_search('CreationDate', c), \"%Y-%m-%dT%H:%M:%S.%f\")\n",
    "    row['DisplayName'] = attribute_search('DisplayName', c)\n",
    "    row['LastAccessDate'] = datetime.datetime.strptime(attribute_search('LastAccessDate', c), \"%Y-%m-%dT%H:%M:%S.%f\")\n",
    "    row['WebsiteUrl'] = attribute_search('WebsiteUrl', c)\n",
    "    row['Location'] = attribute_search('Location', c)\n",
    "    age = attribute_search('Age', c)\n",
    "    row['Age'] = int(age) if age else None\n",
    "    row['Views'] = int(attribute_search('Views', c))\n",
    "    row['UpVotes'] = int(attribute_search('UpVotes', c))\n",
    "    row['DownVotes'] = int(attribute_search('DownVotes', c))\n",
    "    return pyspark.Row(**row)\n",
    "\n",
    "def posts_from_xml(line):\n",
    "    c = line.replace('<row', '').replace('/>', '')\n",
    "    row = dict()\n",
    "    row['Id'] = int(attribute_search('Id', c))\n",
    "    row['PostTypeId'] = int(attribute_search('PostTypeId', c))\n",
    "    found_id = attribute_search('ParentId', c)\n",
    "    row['ParentId'] = int(found_id) if found_id else None\n",
    "    found_id = attribute_search('AcceptedAnswerId', c)\n",
    "    row['AcceptedAnswerId'] = int(found_id) if found_id else None\n",
    "    row['CreationDate'] = datetime.datetime.strptime(attribute_search('CreationDate', c), \"%Y-%m-%dT%H:%M:%S.%f\")\n",
    "    row['Score'] = int(attribute_search('Score', c))\n",
    "    vc = attribute_search('ViewCount', c)\n",
    "    row['ViewCount'] = int(vc) if vc else None\n",
    "    owner = attribute_search('OwnerUserId', c)\n",
    "    row['OwnerUserId'] = int(owner) if owner else None\n",
    "    lasted = attribute_search('LastEditorUserId', c)\n",
    "    row['LastEditorUserId'] = int(lasted) if lasted else None\n",
    "\n",
    "    row['Body'] = re.sub('(<!--.*?-->|<[^>]*>)', '', html.unescape(attribute_search('Body', c)))\n",
    "    title = attribute_search('Title', c)\n",
    "    row['Title'] = title if title else None\n",
    "    tags = attribute_search('Tags', c)\n",
    "    row['Tags'] = html.unescape(tags).replace('<', '').replace('>', ' ') if tags else None\n",
    "    date = attribute_search('ClosedDate', c)\n",
    "    row['ClosedDate'] = datetime.datetime.strptime(date, \"%Y-%m-%dT%H:%M:%S.%f\") if date else None\n",
    "\n",
    "    count = attribute_search('AnswerCount', c)\n",
    "    row['AnswerCount'] = int(count) if count else None\n",
    "    count = attribute_search('CommentCount', c)\n",
    "    row['CommentCount'] = int(count) if count else None\n",
    "    count = attribute_search('FavoriteCount', c)\n",
    "    row['FavoriteCount'] = int(count) if count else None\n",
    "        \n",
    "    return pyspark.Row(**row)\n",
    "\n",
    "def comments_from_xml(line):\n",
    "    c = line.replace('<row', '').replace('/>', '')\n",
    "    row = dict()\n",
    "    row['Id'] = int(attribute_search('Id', c))\n",
    "    row['PostId'] = int(attribute_search('PostId', c))\n",
    "    row['Score'] = int(attribute_search('Score', c))\n",
    "    row['Text'] = re.sub('(<!--.*?-->|<[^>]*>)', '', html.unescape(attribute_search('Text', c)))\n",
    "    row['CreationDate'] = datetime.datetime.strptime(attribute_search('CreationDate', c), \"%Y-%m-%dT%H:%M:%S.%f\")\n",
    "    user = attribute_search('UserId', c)\n",
    "    row['UserId'] = int(user) if user else None\n",
    "    return pyspark.Row(**row)\n",
    "\n",
    "def post_history_from_xml(line):\n",
    "    c = line.replace('<row', '').replace('/>', '')\n",
    "    row = dict()\n",
    "    row['Id'] = int(attribute_search('Id', c))\n",
    "    row['PostHistoryTypeId'] = int(attribute_search('PostHistoryTypeId', c))\n",
    "    row['PostId'] = int(attribute_search('PostId', c))\n",
    "    comm = attribute_search('Comment', c)\n",
    "    row['Comment'] = comm if comm else None\n",
    "    text = attribute_search('Text', c)\n",
    "    row['Text'] = re.sub('(<!--.*?-->|<[^>]*>)', '', html.unescape(text)) if text else None\n",
    "    return pyspark.Row(**row)\n",
    "\n",
    "def post_links_from_xml(line):\n",
    "    c = line.replace('<row', '').replace('/>', '')\n",
    "    row = dict()\n",
    "    row['Id'] = int(attribute_search('Id', c))\n",
    "    row['CreationDate'] = datetime.datetime.strptime(attribute_search('CreationDate', c), \"%Y-%m-%dT%H:%M:%S.%f\")\n",
    "    row['PostId'] = int(attribute_search('PostId', c))\n",
    "    row['RelatedPostId'] = int(attribute_search('RelatedPostId', c))\n",
    "    row['LinkTypeId'] = int(attribute_search('LinkTypeId', c))\n",
    "    return pyspark.Row(**row)"
   ]
  },
  {
   "cell_type": "code",
   "execution_count": null,
   "metadata": {
    "collapsed": false,
    "deletable": true,
    "editable": true
   },
   "outputs": [],
   "source": [
    "# Wczytanie danych do RDD z plików XML, a następnie konwersja RDD do DF: \n",
    "xml_load_path = 'file:///home/marek/Dokumenty/Notebooks/bd/gis_stack_spark/data/'\n",
    "\n",
    "# Słownik: nazwa pliku i odpowiadająca mu funkcja pomocnicza interpretująca\n",
    "# schemat danych w pliku XML\n",
    "xml_load_list = {'Tags.xml': tags_from_xml, 'Badges.xml': badges_from_xml, \\\n",
    "                 'Users.xml': users_from_xml,'Posts.xml': posts_from_xml, \\\n",
    "                 'Comments.xml': comments_from_xml,'PostHistory.xml': post_history_from_xml, \\\n",
    "                 'PostLinks.xml': post_links_from_xml}\n",
    "\n",
    "tags_rdd = sc.textFile(xml_load_path + 'Tags.xml').filter(lambda line: \"row\" in line) \\\n",
    "             .map(lambda l: xml_load_list['Tags.xml'](l))\n",
    "\n",
    "badges_rdd = sc.textFile(xml_load_path + 'Badges.xml').filter(lambda line: \"row\" in line) \\\n",
    "               .map(lambda l: xml_load_list['Badges.xml'](l))\n",
    "\n",
    "users_rdd = sc.textFile(xml_load_path + 'Users.xml').filter(lambda line: \"row\" in line) \\\n",
    "              .map(lambda l: xml_load_list['Users.xml'](l))\n",
    "\n",
    "posts_rdd = sc.textFile(xml_load_path + 'Posts.xml').filter(lambda line: \"row\" in line) \\\n",
    "              .map(lambda l: xml_load_list['Posts.xml'](l))\n",
    "\n",
    "comments_rdd = sc.textFile(xml_load_path + 'Comments.xml').filter(lambda line: \"row\" in line) \\\n",
    "                 .map(lambda l: xml_load_list['Comments.xml'](l))\n",
    "\n",
    "post_history_rdd = sc.textFile(xml_load_path + 'PostHistory.xml').filter(lambda line: \"row\" in line) \\\n",
    "                     .map(lambda l: xml_load_list['PostHistory.xml'](l))\n",
    "\n",
    "post_links_rdd = sc.textFile(xml_load_path + 'PostLinks.xml').filter(lambda line: \"row\" in line) \\\n",
    "                   .map(lambda l: xml_load_list['PostLinks.xml'](l))\n",
    "\n",
    "# Konwersja na DataFrame:\n",
    "users = sqlContext.createDataFrame(users_rdd)\n",
    "badges = sqlContext.createDataFrame(badges_rdd)\n",
    "posts = sqlContext.createDataFrame(posts_rdd)\n",
    "tags = sqlContext.createDataFrame(tags_rdd)\n",
    "comments = sqlContext.createDataFrame(comments_rdd)\n",
    "post_history = sqlContext.createDataFrame(post_history_rdd)\n",
    "post_links = sqlContext.createDataFrame(post_links_rdd)"
   ]
  },
  {
   "cell_type": "code",
   "execution_count": null,
   "metadata": {
    "collapsed": false,
    "deletable": true,
    "editable": true
   },
   "outputs": [],
   "source": []
  },
  {
   "cell_type": "code",
   "execution_count": null,
   "metadata": {
    "collapsed": false,
    "deletable": true,
    "editable": true
   },
   "outputs": [],
   "source": []
  },
  {
   "cell_type": "code",
   "execution_count": null,
   "metadata": {
    "collapsed": false,
    "deletable": true,
    "editable": true
   },
   "outputs": [],
   "source": [
    "# Liczba użytowników (oś Y) vs liczba postów (oś X):\n",
    "# złączenie / grupowanie / count?\n",
    "# DF 'posts' kolumna OwnerUserId = DF 'users' kolumna Id --> można wyjąć np. DisplayName użytkownika\n",
    "# do samego policzenia: groupby OwnerUserId w tabeli posts\n",
    "\n",
    "users_by_posts = posts.groupBy('OwnerUserId').count()\\\n",
    "                      .select(col('OwnerUserId').alias('user'), col('count').alias('number_posts'))\\\n",
    "                      .groupBy('number_posts').count()\\\n",
    "                      .select(col('number_posts'), col('count').alias('number_users'))\\\n",
    "                      .orderBy('number_posts')"
   ]
  },
  {
   "cell_type": "code",
   "execution_count": null,
   "metadata": {
    "collapsed": true,
    "deletable": true,
    "editable": true
   },
   "outputs": [],
   "source": [
    "#wersja z RDD:\n",
    "# x = users_by_posts.rdd.map(lambda x: x.number_posts).collect()\n",
    "# y = users_by_posts.rdd.map(lambda y: y.number_users).collect()\n",
    "\n",
    "# lub z pandas DF:\n",
    "x = users_by_posts.toPandas()['number_posts'].tolist()\n",
    "y = users_by_posts.toPandas()['number_users'].tolist()"
   ]
  },
  {
   "cell_type": "code",
   "execution_count": null,
   "metadata": {
    "collapsed": false,
    "deletable": true,
    "editable": true
   },
   "outputs": [],
   "source": [
    "#użycie Bokeh do wyświetlenia danych\n",
    "output_notebook()\n",
    "plot = figure(plot_width=800, plot_height=400,\\\n",
    "              x_axis_type=\"log\", y_axis_type=\"log\",\\\n",
    "              x_axis_label=\"Liczba postów\", y_axis_label=\"Liczba użytkowników\")\n",
    "plot.circle(x, y, size=5, color=\"green\", alpha=0.4)\n",
    "show(plot)"
   ]
  },
  {
   "cell_type": "code",
   "execution_count": null,
   "metadata": {
    "collapsed": true,
    "deletable": true,
    "editable": true
   },
   "outputs": [],
   "source": []
  },
  {
   "cell_type": "code",
   "execution_count": null,
   "metadata": {
    "collapsed": true,
    "deletable": true,
    "editable": true
   },
   "outputs": [],
   "source": []
  },
  {
   "cell_type": "code",
   "execution_count": null,
   "metadata": {
    "collapsed": true,
    "deletable": true,
    "editable": true
   },
   "outputs": [],
   "source": []
  },
  {
   "cell_type": "code",
   "execution_count": null,
   "metadata": {
    "collapsed": false,
    "deletable": true,
    "editable": true
   },
   "outputs": [],
   "source": [
    "#Aktywność community GIS: Number of Questions vs Answers\n",
    "# posts -- PostTypeId = 1 (Question)\n",
    "# --> AnswerCount\n",
    "\n",
    "questions_vs_answers = posts.select(col('Id'), col('AnswerCount')).where(posts.PostTypeId == 1)\\\n",
    "                            .groupBy('AnswerCount').count()\\\n",
    "                            .select(col('AnswerCount').alias('answers'), col('count').alias('number_questions'))\\\n",
    "                            .orderBy('answers')"
   ]
  },
  {
   "cell_type": "code",
   "execution_count": null,
   "metadata": {
    "collapsed": false,
    "deletable": true,
    "editable": true
   },
   "outputs": [],
   "source": [
    "#wersja zamiast .toPandas() -- tworzy listę\n",
    "#x = questions_vs_answers.rdd.map(lambda x: x.answers).collect()\n",
    "#top = questions_vs_answers.rdd.map(lambda y: y.number_questions).collect()"
   ]
  },
  {
   "cell_type": "code",
   "execution_count": null,
   "metadata": {
    "collapsed": false,
    "deletable": true,
    "editable": true
   },
   "outputs": [],
   "source": [
    "#wykres finalny\n",
    "output_notebook()\n",
    "plot = Bar(questions_vs_answers.toPandas(), 'answers', values='number_questions', \\\n",
    "           title=\"Odpowiedzi vs liczba pytań\", legend='top_right', color=\"navy\", \\\n",
    "           ylabel='Pytania', xlabel='Odpowiedzi')\n",
    "\n",
    "\n",
    "show(plot)"
   ]
  },
  {
   "cell_type": "code",
   "execution_count": null,
   "metadata": {
    "collapsed": false,
    "deletable": true,
    "editable": true
   },
   "outputs": [],
   "source": [
    "total_questions = posts.select(col('Id')).where(posts.PostTypeId == 1).count()\n",
    "\n",
    "unanswered_questions = questions_vs_answers.select(col('number_questions')) \\\n",
    "                       .where(questions_vs_answers.answers == 0) \\\n",
    "                       .collect()[0].number_questions"
   ]
  },
  {
   "cell_type": "code",
   "execution_count": null,
   "metadata": {
    "collapsed": false,
    "deletable": true,
    "editable": true
   },
   "outputs": [],
   "source": [
    "print(\"Liczba pytań na forum GIS:    {}\".format(total_questions))\n",
    "print(\"Liczba pytań bez odpowiedzi:  {}\".format(unanswered_questions))\n",
    "print(\"Procent pytań bez odpowiedzi: {:.2%}\".format(unanswered_questions/total_questions))"
   ]
  },
  {
   "cell_type": "code",
   "execution_count": null,
   "metadata": {
    "collapsed": false,
    "deletable": true,
    "editable": true
   },
   "outputs": [],
   "source": [
    "posts.printSchema()"
   ]
  },
  {
   "cell_type": "code",
   "execution_count": null,
   "metadata": {
    "collapsed": false,
    "deletable": true,
    "editable": true
   },
   "outputs": [],
   "source": [
    "tags.printSchema()"
   ]
  },
  {
   "cell_type": "code",
   "execution_count": null,
   "metadata": {
    "collapsed": false,
    "deletable": true,
    "editable": true
   },
   "outputs": [],
   "source": [
    "# Najpopularniejsze tagi na forum\n",
    "tags.sort('Count', ascending=False).take(30)"
   ]
  },
  {
   "cell_type": "code",
   "execution_count": null,
   "metadata": {
    "collapsed": false,
    "deletable": true,
    "editable": true
   },
   "outputs": [],
   "source": []
  },
  {
   "cell_type": "code",
   "execution_count": null,
   "metadata": {
    "collapsed": true,
    "deletable": true,
    "editable": true
   },
   "outputs": [],
   "source": [
    "# Wstępna weryfikacja danych / zapytań"
   ]
  },
  {
   "cell_type": "code",
   "execution_count": null,
   "metadata": {
    "collapsed": false,
    "deletable": true,
    "editable": true
   },
   "outputs": [],
   "source": [
    "posts.filter(posts.Tags.rlike(r'\\bpostgis\\b')).count()"
   ]
  },
  {
   "cell_type": "code",
   "execution_count": null,
   "metadata": {
    "collapsed": false,
    "deletable": true,
    "editable": true
   },
   "outputs": [],
   "source": [
    "posts.filter(posts.Tags.rlike(r'\\barcgis-desktop \\b')) \\\n",
    "     .select(year(\"CreationDate\").alias('Year'), month(\"CreationDate\").alias('Month')) \\\n",
    "     .groupBy('Year', 'Month').count().show()"
   ]
  },
  {
   "cell_type": "code",
   "execution_count": null,
   "metadata": {
    "collapsed": true,
    "deletable": true,
    "editable": true
   },
   "outputs": [],
   "source": [
    "# Zapytanie dla jednego produktu GIS (tu tag 'arcgis-desktop'):\n",
    "gis_posts_data = posts.filter(posts.Tags.rlike(r'\\barcgis-desktop\\b')) \\\n",
    "    .select(concat_ws('.', year(\"CreationDate\"), lpad(month(\"CreationDate\"), 2, \"0\")).alias('Months')) \\\n",
    "    .groupBy('Months').count().sort('Months').toPandas()\n",
    "\n",
    "gis_posts_data.rename(columns={'count': 'ArcGIS'}, inplace=True)\n",
    "\n",
    "# Można dodać kolejną kolumnę z danymi do DF:\n",
    "# arcgis_desktop['PostGIS'] = postgis['PostGIS']"
   ]
  },
  {
   "cell_type": "code",
   "execution_count": null,
   "metadata": {
    "collapsed": true,
    "deletable": true,
    "editable": true
   },
   "outputs": [],
   "source": []
  },
  {
   "cell_type": "code",
   "execution_count": null,
   "metadata": {
    "collapsed": true,
    "deletable": true,
    "editable": true
   },
   "outputs": [],
   "source": [
    "# Dla kilku produktów: iterujemy po liście tagów i składamy kolejne kolumny w DF pandas"
   ]
  },
  {
   "cell_type": "code",
   "execution_count": null,
   "metadata": {
    "collapsed": true,
    "deletable": true,
    "editable": true
   },
   "outputs": [],
   "source": [
    "gis_products = ['qgis', 'arcgis-desktop', 'postgis', 'openstreetmap', 'geoserver']"
   ]
  },
  {
   "cell_type": "code",
   "execution_count": null,
   "metadata": {
    "collapsed": false,
    "deletable": true,
    "editable": true
   },
   "outputs": [],
   "source": [
    "gis_posts_data = pd.DataFrame()\n",
    "for gis_p in gis_products:\n",
    "    print('Wyliczam posty dla produktu: {0}'.format(gis_p))\n",
    "    product_posts = posts.filter(posts.Tags.rlike(r'\\b{0}\\b'.format(gis_p))) \\\n",
    "        .select(concat_ws('.', year(\"CreationDate\"), lpad(month(\"CreationDate\"), 2, \"0\")).alias('Months')) \\\n",
    "        .groupBy('Months').count().sort('Months').toPandas()\n",
    "    if 'Months' in gis_posts_data.columns:\n",
    "        product_posts.rename(columns={'count': gis_p}, inplace=True)\n",
    "        gis_posts_data[gis_p] = product_posts[gis_p]\n",
    "    else:\n",
    "        gis_posts_data = product_posts.copy()\n",
    "        gis_posts_data.rename(columns={'count': gis_p}, inplace=True)\n",
    "\n",
    "print('Gotowe.')"
   ]
  },
  {
   "cell_type": "code",
   "execution_count": null,
   "metadata": {
    "collapsed": false,
    "deletable": true,
    "editable": true
   },
   "outputs": [],
   "source": [
    "gis_posts_data"
   ]
  },
  {
   "cell_type": "code",
   "execution_count": null,
   "metadata": {
    "collapsed": false,
    "deletable": true,
    "editable": true
   },
   "outputs": [],
   "source": []
  },
  {
   "cell_type": "code",
   "execution_count": null,
   "metadata": {
    "collapsed": false,
    "deletable": true,
    "editable": true
   },
   "outputs": [],
   "source": []
  },
  {
   "cell_type": "code",
   "execution_count": null,
   "metadata": {
    "collapsed": false,
    "deletable": true,
    "editable": true
   },
   "outputs": [],
   "source": []
  },
  {
   "cell_type": "code",
   "execution_count": null,
   "metadata": {
    "collapsed": false,
    "deletable": true,
    "editable": true
   },
   "outputs": [],
   "source": []
  },
  {
   "cell_type": "code",
   "execution_count": null,
   "metadata": {
    "collapsed": false,
    "deletable": true,
    "editable": true
   },
   "outputs": [],
   "source": []
  },
  {
   "cell_type": "code",
   "execution_count": null,
   "metadata": {
    "collapsed": false,
    "deletable": true,
    "editable": true
   },
   "outputs": [],
   "source": [
    "# Trend czasowy -- posty na miesiąc\n",
    "output_notebook()\n",
    "\n",
    "tsline = TimeSeries(gis_posts_data, x='Months', y=gis_products, \\\n",
    "#         color=['darkorange', 'darkgreen'], \\\n",
    "         title=\"Posty na miesiąc\", xlabel='Data (miesiące)', ylabel='Produkty GIS', legend=True)\n",
    "\n",
    "show(column(tsline))"
   ]
  },
  {
   "cell_type": "code",
   "execution_count": null,
   "metadata": {
    "collapsed": true,
    "deletable": true,
    "editable": true
   },
   "outputs": [],
   "source": []
  },
  {
   "cell_type": "code",
   "execution_count": null,
   "metadata": {
    "collapsed": true,
    "deletable": true,
    "editable": true
   },
   "outputs": [],
   "source": []
  }
 ],
 "metadata": {
  "celltoolbar": "Raw Cell Format",
  "kernelspec": {
   "display_name": "Python 3",
   "language": "python",
   "name": "python3"
  },
  "language_info": {
   "codemirror_mode": {
    "name": "ipython",
    "version": 3
   },
   "file_extension": ".py",
   "mimetype": "text/x-python",
   "name": "python",
   "nbconvert_exporter": "python",
   "pygments_lexer": "ipython3",
   "version": "3.5.3"
  }
 },
 "nbformat": 4,
 "nbformat_minor": 2
}
