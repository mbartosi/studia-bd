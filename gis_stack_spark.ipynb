{
 "cells": [
  {
   "cell_type": "code",
   "execution_count": null,
   "metadata": {
    "collapsed": false,
    "deletable": true,
    "editable": true
   },
   "outputs": [],
   "source": [
    "import re\n",
    "import ast\n",
    "import pyspark\n",
    "import time\n",
    "import datetime\n",
    "import html\n",
    "from pyspark import SparkContext\n",
    "from pyspark.sql import *\n",
    "from pyspark.sql.types import *\n",
    "from pyspark.sql.functions import *\n",
    "#visualisation\n",
    "from bokeh.plotting import figure, show, output_file, output_notebook"
   ]
  },
  {
   "cell_type": "code",
   "execution_count": null,
   "metadata": {
    "collapsed": true,
    "deletable": true,
    "editable": true
   },
   "outputs": [],
   "source": [
    "sc = SparkContext()\n",
    "sqlContext = SQLContext(sc)"
   ]
  },
  {
   "cell_type": "code",
   "execution_count": null,
   "metadata": {
    "collapsed": true,
    "deletable": true,
    "editable": true
   },
   "outputs": [],
   "source": [
    "# Funkcja pomocnicza: wyszukiwanie podanego atrybutu w linii pliku XML,\n",
    "# zwraca wartość znalezionego atrybutu lub None jeśli atrybut nie istnieje\n",
    "\n",
    "def attribute_search(attribute, string):\n",
    "    result = re.search(attribute + '=\\\"(.*?)\\\"', string)\n",
    "    if result:\n",
    "        return result.group(1).replace('\"', '')\n",
    "    else:\n",
    "        return None"
   ]
  },
  {
   "cell_type": "code",
   "execution_count": null,
   "metadata": {
    "collapsed": true,
    "deletable": true,
    "editable": true
   },
   "outputs": [],
   "source": [
    "# Funkcje pomocnicze: interpretacja plików XML (różne schematy danych)\n",
    "# ze Stackoverflow\n",
    "\n",
    "def tags_from_xml(line):\n",
    "    c = line.replace('<row', '').replace('/>', '')\n",
    "    row = dict()\n",
    "    row['Id'] = int(attribute_search('Id', c));\n",
    "    row['TagName'] = attribute_search('TagName', c);\n",
    "    count = attribute_search('Count', c);    \n",
    "    row['Count'] = int(count) if count else None;\n",
    "    return pyspark.Row(**row)\n",
    "\n",
    "def badges_from_xml(line):\n",
    "    c = line.replace('<row', '').replace('/>', '')\n",
    "    row = dict()\n",
    "    row['Id'] = int(attribute_search('Id', c));\n",
    "    row['UserId'] = int(attribute_search('UserId', c));\n",
    "    row['Name'] = attribute_search('Name', c);\n",
    "    row['Date'] = datetime.datetime.strptime(attribute_search('Date', c), \"%Y-%m-%dT%H:%M:%S.%f\");\n",
    "    row['Class'] = int(attribute_search('Class', c));\n",
    "    row['TagBased'] = ast.literal_eval(attribute_search('TagBased', c));\n",
    "    return pyspark.Row(**row)\n",
    "\n",
    "def users_from_xml(line):\n",
    "    c = line.replace('<row', '').replace('/>', '')\n",
    "    row = dict()\n",
    "    row['Id'] = int(attribute_search('Id', c));\n",
    "    row['Reputation'] = int(attribute_search('Reputation', c));\n",
    "    row['CreationDate'] = datetime.datetime.strptime(attribute_search('CreationDate', c), \"%Y-%m-%dT%H:%M:%S.%f\");\n",
    "    row['DisplayName'] = attribute_search('DisplayName', c);\n",
    "    row['LastAccessDate'] = datetime.datetime.strptime(attribute_search('LastAccessDate', c), \"%Y-%m-%dT%H:%M:%S.%f\");\n",
    "    row['WebsiteUrl'] = attribute_search('WebsiteUrl', c);\n",
    "    row['Location'] = attribute_search('Location', c);\n",
    "    age = attribute_search('Age', c);\n",
    "    row['Age'] = int(age) if age else None;\n",
    "    row['Views'] = int(attribute_search('Views', c));\n",
    "    row['UpVotes'] = int(attribute_search('UpVotes', c));\n",
    "    row['DownVotes'] = int(attribute_search('DownVotes', c));    \n",
    "    return pyspark.Row(**row)\n",
    "\n",
    "def posts_from_xml(line):\n",
    "    c = line.replace('<row', '').replace('/>', '')\n",
    "    row = dict()\n",
    "    row['Id'] = int(attribute_search('Id', c));\n",
    "    row['PostTypeId'] = int(attribute_search('PostTypeId', c));\n",
    "    found_id = attribute_search('ParentId', c);\n",
    "    row['ParentId'] = int(found_id) if found_id else None;\n",
    "    found_id = attribute_search('AcceptedAnswerId', c);\n",
    "    row['AcceptedAnswerId'] = int(found_id) if found_id else None;    \n",
    "    row['CreationDate'] = datetime.datetime.strptime(attribute_search('CreationDate', c), \"%Y-%m-%dT%H:%M:%S.%f\");\n",
    "    row['Score'] = int(attribute_search('Score', c));\n",
    "    vc = attribute_search('ViewCount', c);\n",
    "    row['ViewCount'] = int(vc) if vc else None;\n",
    "    owner = attribute_search('OwnerUserId', c);\n",
    "    row['OwnerUserId'] = int(owner) if owner else None;\n",
    "    lasted = attribute_search('LastEditorUserId', c);\n",
    "    row['LastEditorUserId'] = int(lasted) if lasted else None;\n",
    "\n",
    "    row['Body'] = re.sub('(<!--.*?-->|<[^>]*>)', '', html.unescape(attribute_search('Body', c)));\n",
    "    title = attribute_search('Title', c);\n",
    "    row['Title'] = title if title else None;\n",
    "    tags = attribute_search('Tags', c);\n",
    "    row['Tags'] = html.unescape(tags).replace('<', '').replace('>', ' ') if tags else None;\n",
    "    date = attribute_search('ClosedDate', c);\n",
    "    row['ClosedDate'] = datetime.datetime.strptime(date, \"%Y-%m-%dT%H:%M:%S.%f\") if date else None;\n",
    "\n",
    "    count = attribute_search('AnswerCount', c);\n",
    "    row['AnswerCount'] = int(count) if count else None;\n",
    "    count = attribute_search('CommentCount', c);    \n",
    "    row['CommentCount'] = int(count) if count else None;\n",
    "    count = attribute_search('FavoriteCount', c);\n",
    "    row['FavoriteCount'] = int(count) if count else None;\n",
    "        \n",
    "    return pyspark.Row(**row)\n",
    "\n",
    "def comments_from_xml(line):\n",
    "    c = line.replace('<row', '').replace('/>', '')\n",
    "    row = dict()    \n",
    "    row['Id'] = int(attribute_search('Id', c));\n",
    "    row['PostId'] = int(attribute_search('PostId', c));\n",
    "    row['Score'] = int(attribute_search('Score', c));\n",
    "    row['Text'] = re.sub('(<!--.*?-->|<[^>]*>)', '', html.unescape(attribute_search('Text', c)));\n",
    "    row['CreationDate'] = datetime.datetime.strptime(attribute_search('CreationDate', c), \"%Y-%m-%dT%H:%M:%S.%f\");\n",
    "    user = attribute_search('UserId', c);\n",
    "    row['UserId'] = int(user) if user else None;\n",
    "    return pyspark.Row(**row)\n",
    "\n",
    "def post_history_from_xml(line):\n",
    "    c = line.replace('<row', '').replace('/>', '')\n",
    "    row = dict()\n",
    "    row['Id'] = int(attribute_search('Id', c));\n",
    "    row['PostHistoryTypeId'] = int(attribute_search('PostHistoryTypeId', c));\n",
    "    row['PostId'] = int(attribute_search('PostId', c));\n",
    "    comm = attribute_search('Comment', c);\n",
    "    row['Comment'] = comm if comm else None;\n",
    "    text = attribute_search('Text', c);\n",
    "    row['Text'] = re.sub('(<!--.*?-->|<[^>]*>)', '', html.unescape(text)) if text else None;    \n",
    "    return pyspark.Row(**row)\n",
    "\n",
    "def post_links_from_xml(line):\n",
    "    c = line.replace('<row', '').replace('/>', '')\n",
    "    row = dict()\n",
    "    row['Id'] = int(attribute_search('Id', c));\n",
    "    row['CreationDate'] = datetime.datetime.strptime(attribute_search('CreationDate', c), \"%Y-%m-%dT%H:%M:%S.%f\");\n",
    "    row['PostId'] = int(attribute_search('PostId', c));\n",
    "    row['RelatedPostId'] = int(attribute_search('RelatedPostId', c));\n",
    "    row['LinkTypeId'] = int(attribute_search('LinkTypeId', c));    \n",
    "    return pyspark.Row(**row)"
   ]
  },
  {
   "cell_type": "code",
   "execution_count": null,
   "metadata": {
    "collapsed": false,
    "deletable": true,
    "editable": true
   },
   "outputs": [],
   "source": [
    "# Wczytanie danych do RDD z plików XML, a następnie konwersja RDD do DF: \n",
    "\n",
    "xml_load_path = 'file:///home/marek/Dokumenty/Notebooks/gis_stack_spark/data/'\n",
    "\n",
    "# Słownik: nazwa pliku i odpowiadająca mu funkcja pomocnicza interpretująca\n",
    "# schemat danych w pliku XML\n",
    "xml_load_list = {'Tags.xml': tags_from_xml, 'Badges.xml': badges_from_xml, \\\n",
    "                 'Users.xml': users_from_xml,'Posts.xml': posts_from_xml, \\\n",
    "                 'Comments.xml': comments_from_xml,'PostHistory.xml': post_history_from_xml, \\\n",
    "                 'PostLinks.xml': post_links_from_xml}\n",
    "\n",
    "tags_rdd = sc.textFile(xml_load_path + 'Tags.xml').filter(lambda line: \"row\" in line) \\\n",
    "             .map(lambda l: xml_load_list['Tags.xml'](l))\n",
    "\n",
    "badges_rdd = sc.textFile(xml_load_path + 'Badges.xml').filter(lambda line: \"row\" in line) \\\n",
    "               .map(lambda l: xml_load_list['Badges.xml'](l))\n",
    "\n",
    "users_rdd = sc.textFile(xml_load_path + 'Users.xml').filter(lambda line: \"row\" in line) \\\n",
    "              .map(lambda l: xml_load_list['Users.xml'](l))\n",
    "\n",
    "posts_rdd = sc.textFile(xml_load_path + 'Posts.xml').filter(lambda line: \"row\" in line) \\\n",
    "              .map(lambda l: xml_load_list['Posts.xml'](l))\n",
    "\n",
    "comments_rdd = sc.textFile(xml_load_path + 'Comments.xml').filter(lambda line: \"row\" in line) \\\n",
    "                 .map(lambda l: xml_load_list['Comments.xml'](l))\n",
    "\n",
    "post_history_rdd = sc.textFile(xml_load_path + 'PostHistory.xml').filter(lambda line: \"row\" in line) \\\n",
    "                     .map(lambda l: xml_load_list['PostHistory.xml'](l))\n",
    "\n",
    "post_links_rdd = sc.textFile(xml_load_path + 'PostLinks.xml').filter(lambda line: \"row\" in line) \\\n",
    "                   .map(lambda l: xml_load_list['PostLinks.xml'](l))\n",
    "\n",
    "# Konwersja na DataFrame:\n",
    "users = sqlContext.createDataFrame(users_rdd)\n",
    "badges = sqlContext.createDataFrame(badges_rdd)\n",
    "posts = sqlContext.createDataFrame(posts_rdd)\n",
    "tags = sqlContext.createDataFrame(tags_rdd)\n",
    "comments = sqlContext.createDataFrame(comments_rdd)\n",
    "post_history = sqlContext.createDataFrame(post_history_rdd)\n",
    "post_links = sqlContext.createDataFrame(post_links_rdd)"
   ]
  },
  {
   "cell_type": "code",
   "execution_count": null,
   "metadata": {
    "collapsed": false,
    "deletable": true,
    "editable": true
   },
   "outputs": [],
   "source": [
    "posts.printSchema()\n",
    "posts.show()"
   ]
  },
  {
   "cell_type": "code",
   "execution_count": null,
   "metadata": {
    "collapsed": false,
    "deletable": true,
    "editable": true
   },
   "outputs": [],
   "source": [
    "users.printSchema()\n",
    "users.show()"
   ]
  },
  {
   "cell_type": "code",
   "execution_count": null,
   "metadata": {
    "collapsed": false,
    "deletable": true,
    "editable": true
   },
   "outputs": [],
   "source": [
    "# Liczba użytowników (oś Y) vs liczba postów (oś X):\n",
    "# złączenie / grupowanie / count?\n",
    "# DF 'posts' kolumna OwnerUserId = DF 'users' kolumna Id --> można wyjąć np. DisplayName użytkownika\n",
    "# do samego policzenia: groupby OwnerUserId w tabeli posts\n",
    "grouped = posts.groupBy('OwnerUserId').count()\n",
    "grouped.show()"
   ]
  },
  {
   "cell_type": "code",
   "execution_count": null,
   "metadata": {
    "collapsed": false,
    "deletable": true,
    "editable": true
   },
   "outputs": [],
   "source": [
    "grouped = posts.groupBy('OwnerUserId').count().collect()"
   ]
  },
  {
   "cell_type": "code",
   "execution_count": null,
   "metadata": {
    "collapsed": false,
    "deletable": true,
    "editable": true
   },
   "outputs": [],
   "source": [
    "grouped"
   ]
  },
  {
   "cell_type": "code",
   "execution_count": null,
   "metadata": {
    "collapsed": false,
    "deletable": true,
    "editable": true
   },
   "outputs": [],
   "source": [
    "grouped_df = sqlContext.createDataFrame(grouped)"
   ]
  },
  {
   "cell_type": "code",
   "execution_count": null,
   "metadata": {
    "collapsed": false,
    "deletable": true,
    "editable": true
   },
   "outputs": [],
   "source": [
    "grouped_df.select(col('OwnerUserId').alias('user'), col('count').alias('posts')).printSchema()\n",
    "grouped_df.select(col('OwnerUserId').alias('user'), col('count').alias('posts')).show()"
   ]
  },
  {
   "cell_type": "code",
   "execution_count": null,
   "metadata": {
    "collapsed": false,
    "deletable": true,
    "editable": true
   },
   "outputs": [],
   "source": []
  },
  {
   "cell_type": "code",
   "execution_count": null,
   "metadata": {
    "collapsed": false,
    "deletable": true,
    "editable": true
   },
   "outputs": [],
   "source": [
    "users_by_posts = sqlContext.createDataFrame(\\\n",
    "    grouped_df.select(col('OwnerUserId').alias('user'), col('count').alias('posts'))\\\n",
    "              .groupBy('posts').count().orderBy('posts').collect())"
   ]
  },
  {
   "cell_type": "code",
   "execution_count": null,
   "metadata": {
    "collapsed": false
   },
   "outputs": [],
   "source": [
    "users_by_posts.select(col('posts'), col('count').alias('number')).show(10000)"
   ]
  },
  {
   "cell_type": "code",
   "execution_count": null,
   "metadata": {
    "collapsed": true
   },
   "outputs": [],
   "source": []
  },
  {
   "cell_type": "code",
   "execution_count": null,
   "metadata": {
    "collapsed": false,
    "deletable": true,
    "editable": true
   },
   "outputs": [],
   "source": [
    "x = users_by_posts.rdd.map(lambda x: x.posts).collect()\n",
    "y = users_by_posts.select(col('posts'), col('count').alias('number')).rdd.map(lambda y: y.number).collect()"
   ]
  },
  {
   "cell_type": "code",
   "execution_count": null,
   "metadata": {
    "collapsed": true
   },
   "outputs": [],
   "source": []
  },
  {
   "cell_type": "code",
   "execution_count": null,
   "metadata": {
    "collapsed": false
   },
   "outputs": [],
   "source": [
    "output_notebook()"
   ]
  },
  {
   "cell_type": "code",
   "execution_count": null,
   "metadata": {
    "collapsed": false
   },
   "outputs": [],
   "source": [
    "plot = figure(plot_width=800, plot_height=400, x_axis_type=\"log\", y_axis_type=\"log\")\n",
    "plot.circle(x, y, size=5)"
   ]
  },
  {
   "cell_type": "code",
   "execution_count": 82,
   "metadata": {
    "collapsed": false
   },
   "outputs": [
    {
     "data": {
      "text/html": [
       "\n",
       "\n",
       "    <div class=\"bk-root\">\n",
       "        <div class=\"bk-plotdiv\" id=\"9a0447a8-5cde-4221-b243-21d5978bb36f\"></div>\n",
       "    </div>\n",
       "<script type=\"text/javascript\">\n",
       "  \n",
       "  (function(global) {\n",
       "    function now() {\n",
       "      return new Date();\n",
       "    }\n",
       "  \n",
       "    var force = false;\n",
       "  \n",
       "    if (typeof (window._bokeh_onload_callbacks) === \"undefined\" || force === true) {\n",
       "      window._bokeh_onload_callbacks = [];\n",
       "      window._bokeh_is_loading = undefined;\n",
       "    }\n",
       "  \n",
       "  \n",
       "    \n",
       "    if (typeof (window._bokeh_timeout) === \"undefined\" || force === true) {\n",
       "      window._bokeh_timeout = Date.now() + 0;\n",
       "      window._bokeh_failed_load = false;\n",
       "    }\n",
       "  \n",
       "    var NB_LOAD_WARNING = {'data': {'text/html':\n",
       "       \"<div style='background-color: #fdd'>\\n\"+\n",
       "       \"<p>\\n\"+\n",
       "       \"BokehJS does not appear to have successfully loaded. If loading BokehJS from CDN, this \\n\"+\n",
       "       \"may be due to a slow or bad network connection. Possible fixes:\\n\"+\n",
       "       \"</p>\\n\"+\n",
       "       \"<ul>\\n\"+\n",
       "       \"<li>re-rerun `output_notebook()` to attempt to load from CDN again, or</li>\\n\"+\n",
       "       \"<li>use INLINE resources instead, as so:</li>\\n\"+\n",
       "       \"</ul>\\n\"+\n",
       "       \"<code>\\n\"+\n",
       "       \"from bokeh.resources import INLINE\\n\"+\n",
       "       \"output_notebook(resources=INLINE)\\n\"+\n",
       "       \"</code>\\n\"+\n",
       "       \"</div>\"}};\n",
       "  \n",
       "    function display_loaded() {\n",
       "      if (window.Bokeh !== undefined) {\n",
       "        document.getElementById(\"9a0447a8-5cde-4221-b243-21d5978bb36f\").textContent = \"BokehJS successfully loaded.\";\n",
       "      } else if (Date.now() < window._bokeh_timeout) {\n",
       "        setTimeout(display_loaded, 100)\n",
       "      }\n",
       "    }\n",
       "  \n",
       "    function run_callbacks() {\n",
       "      window._bokeh_onload_callbacks.forEach(function(callback) { callback() });\n",
       "      delete window._bokeh_onload_callbacks\n",
       "      console.info(\"Bokeh: all callbacks have finished\");\n",
       "    }\n",
       "  \n",
       "    function load_libs(js_urls, callback) {\n",
       "      window._bokeh_onload_callbacks.push(callback);\n",
       "      if (window._bokeh_is_loading > 0) {\n",
       "        console.log(\"Bokeh: BokehJS is being loaded, scheduling callback at\", now());\n",
       "        return null;\n",
       "      }\n",
       "      if (js_urls == null || js_urls.length === 0) {\n",
       "        run_callbacks();\n",
       "        return null;\n",
       "      }\n",
       "      console.log(\"Bokeh: BokehJS not loaded, scheduling load and callback at\", now());\n",
       "      window._bokeh_is_loading = js_urls.length;\n",
       "      for (var i = 0; i < js_urls.length; i++) {\n",
       "        var url = js_urls[i];\n",
       "        var s = document.createElement('script');\n",
       "        s.src = url;\n",
       "        s.async = false;\n",
       "        s.onreadystatechange = s.onload = function() {\n",
       "          window._bokeh_is_loading--;\n",
       "          if (window._bokeh_is_loading === 0) {\n",
       "            console.log(\"Bokeh: all BokehJS libraries loaded\");\n",
       "            run_callbacks()\n",
       "          }\n",
       "        };\n",
       "        s.onerror = function() {\n",
       "          console.warn(\"failed to load library \" + url);\n",
       "        };\n",
       "        console.log(\"Bokeh: injecting script tag for BokehJS library: \", url);\n",
       "        document.getElementsByTagName(\"head\")[0].appendChild(s);\n",
       "      }\n",
       "    };var element = document.getElementById(\"9a0447a8-5cde-4221-b243-21d5978bb36f\");\n",
       "    if (element == null) {\n",
       "      console.log(\"Bokeh: ERROR: autoload.js configured with elementid '9a0447a8-5cde-4221-b243-21d5978bb36f' but no matching script tag was found. \")\n",
       "      return false;\n",
       "    }\n",
       "  \n",
       "    var js_urls = [];\n",
       "  \n",
       "    var inline_js = [\n",
       "      function(Bokeh) {\n",
       "        (function() {\n",
       "          var fn = function() {\n",
       "            var docs_json = {\"d694d604-3249-4fd6-9396-443a8dc69562\":{\"roots\":{\"references\":[{\"attributes\":{\"overlay\":{\"id\":\"943a25bd-acbb-4d2d-ac7c-114819b42c00\",\"type\":\"BoxAnnotation\"},\"plot\":{\"id\":\"559504c1-8f72-486e-800e-2b1f2545b152\",\"subtype\":\"Figure\",\"type\":\"Plot\"}},\"id\":\"0e58fde0-7327-4ec9-8b6a-89fa9926c9ae\",\"type\":\"BoxZoomTool\"},{\"attributes\":{\"plot\":null,\"text\":\"\"},\"id\":\"e77e9e90-b0ff-4c7f-a2e6-6ea65963c77b\",\"type\":\"Title\"},{\"attributes\":{\"fill_alpha\":{\"value\":0.1},\"fill_color\":{\"value\":\"#1f77b4\"},\"line_alpha\":{\"value\":0.1},\"line_color\":{\"value\":\"#1f77b4\"},\"size\":{\"units\":\"screen\",\"value\":5},\"x\":{\"field\":\"x\"},\"y\":{\"field\":\"y\"}},\"id\":\"21c225d4-54a0-40f0-aa2a-8df8d6d8104a\",\"type\":\"Circle\"},{\"attributes\":{\"plot\":{\"id\":\"559504c1-8f72-486e-800e-2b1f2545b152\",\"subtype\":\"Figure\",\"type\":\"Plot\"}},\"id\":\"360fcaa9-8465-4cc4-9791-55e449dfb41f\",\"type\":\"ResetTool\"},{\"attributes\":{\"bottom_units\":\"screen\",\"fill_alpha\":{\"value\":0.5},\"fill_color\":{\"value\":\"lightgrey\"},\"left_units\":\"screen\",\"level\":\"overlay\",\"line_alpha\":{\"value\":1.0},\"line_color\":{\"value\":\"black\"},\"line_dash\":[4,4],\"line_width\":{\"value\":2},\"plot\":null,\"render_mode\":\"css\",\"right_units\":\"screen\",\"top_units\":\"screen\"},\"id\":\"943a25bd-acbb-4d2d-ac7c-114819b42c00\",\"type\":\"BoxAnnotation\"},{\"attributes\":{\"fill_color\":{\"value\":\"#1f77b4\"},\"line_color\":{\"value\":\"#1f77b4\"},\"size\":{\"units\":\"screen\",\"value\":5},\"x\":{\"field\":\"x\"},\"y\":{\"field\":\"y\"}},\"id\":\"47748ef8-8027-4eda-8a16-d894fb3e36db\",\"type\":\"Circle\"},{\"attributes\":{\"num_minor_ticks\":10},\"id\":\"e165179e-7e17-4960-a121-7da0ecb7cb51\",\"type\":\"LogTicker\"},{\"attributes\":{},\"id\":\"8bbd30a5-552f-4cbb-a660-9149caf5a786\",\"type\":\"ToolEvents\"},{\"attributes\":{\"callback\":null},\"id\":\"a3930d5b-266e-41ca-8363-b40d4bf9d3cf\",\"type\":\"DataRange1d\"},{\"attributes\":{\"below\":[{\"id\":\"e66139c2-e3da-4227-9351-c361b6989791\",\"type\":\"LogAxis\"}],\"left\":[{\"id\":\"33e04569-d670-4216-b7f6-a7b7b5a01944\",\"type\":\"LogAxis\"}],\"plot_height\":400,\"plot_width\":800,\"renderers\":[{\"id\":\"e66139c2-e3da-4227-9351-c361b6989791\",\"type\":\"LogAxis\"},{\"id\":\"186fff87-3de0-4b81-b4ba-b0a029533fbe\",\"type\":\"Grid\"},{\"id\":\"33e04569-d670-4216-b7f6-a7b7b5a01944\",\"type\":\"LogAxis\"},{\"id\":\"e806cad8-2bd1-494c-a2c2-f2cd254e622d\",\"type\":\"Grid\"},{\"id\":\"943a25bd-acbb-4d2d-ac7c-114819b42c00\",\"type\":\"BoxAnnotation\"},{\"id\":\"e6878119-76eb-40ee-a0e2-c09dd55663f3\",\"type\":\"GlyphRenderer\"}],\"title\":{\"id\":\"e77e9e90-b0ff-4c7f-a2e6-6ea65963c77b\",\"type\":\"Title\"},\"tool_events\":{\"id\":\"8bbd30a5-552f-4cbb-a660-9149caf5a786\",\"type\":\"ToolEvents\"},\"toolbar\":{\"id\":\"7273142e-c964-4d8c-af4d-f7fc35c3ea59\",\"type\":\"Toolbar\"},\"x_mapper_type\":\"log\",\"x_range\":{\"id\":\"a3930d5b-266e-41ca-8363-b40d4bf9d3cf\",\"type\":\"DataRange1d\"},\"y_mapper_type\":\"log\",\"y_range\":{\"id\":\"e4353157-241e-4ddd-9184-43e4b643c23f\",\"type\":\"DataRange1d\"}},\"id\":\"559504c1-8f72-486e-800e-2b1f2545b152\",\"subtype\":\"Figure\",\"type\":\"Plot\"},{\"attributes\":{\"formatter\":{\"id\":\"0f5af754-90b9-4a0f-a460-0b7bd8259ba6\",\"type\":\"LogTickFormatter\"},\"plot\":{\"id\":\"559504c1-8f72-486e-800e-2b1f2545b152\",\"subtype\":\"Figure\",\"type\":\"Plot\"},\"ticker\":{\"id\":\"d9bf7789-de13-44ef-b51c-17e849138ef6\",\"type\":\"LogTicker\"}},\"id\":\"e66139c2-e3da-4227-9351-c361b6989791\",\"type\":\"LogAxis\"},{\"attributes\":{\"plot\":{\"id\":\"559504c1-8f72-486e-800e-2b1f2545b152\",\"subtype\":\"Figure\",\"type\":\"Plot\"}},\"id\":\"54d53c04-1aa9-4490-8d66-3522bea86fab\",\"type\":\"WheelZoomTool\"},{\"attributes\":{\"callback\":null},\"id\":\"e4353157-241e-4ddd-9184-43e4b643c23f\",\"type\":\"DataRange1d\"},{\"attributes\":{\"ticker\":null},\"id\":\"0f5af754-90b9-4a0f-a460-0b7bd8259ba6\",\"type\":\"LogTickFormatter\"},{\"attributes\":{\"callback\":null,\"column_names\":[\"y\",\"x\"],\"data\":{\"x\":[1,2,3,4,5,6,7,8,9,10,11,12,13,14,15,16,17,18,19,20,21,22,23,24,25,26,27,28,29,30,31,32,33,34,35,36,37,38,39,40,41,42,43,44,45,46,47,48,49,50,51,52,53,54,55,56,57,58,59,60,61,62,63,64,65,66,67,68,69,70,71,72,73,74,75,76,77,78,79,80,81,82,83,84,85,86,87,88,89,90,91,92,94,96,97,98,99,100,101,102,103,104,105,106,108,109,110,111,112,113,114,115,116,117,118,119,120,121,123,125,126,127,128,129,130,131,132,134,135,136,137,138,139,140,141,143,144,145,146,147,148,151,152,154,156,157,158,162,163,164,165,166,169,171,172,175,176,177,178,181,182,184,185,189,190,194,195,198,202,203,204,205,210,214,218,220,222,224,225,233,235,236,237,239,244,247,248,251,253,254,256,259,261,265,267,272,275,276,278,281,284,286,290,293,296,311,319,336,341,370,372,379,393,401,423,424,462,466,476,481,493,506,554,583,605,618,646,656,657,662,681,688,699,732,787,791,817,843,949,1034,1092,1151,1215,1307,1376,2036,2226],\"y\":[22176,5232,2408,1401,924,597,478,378,284,248,224,139,155,100,115,104,77,91,64,60,57,39,37,40,47,36,39,25,24,28,22,31,24,20,28,24,21,12,16,18,11,12,14,11,10,11,11,6,10,10,9,13,8,14,7,5,6,12,9,7,4,8,4,12,3,8,8,7,5,4,2,4,7,1,4,2,4,3,3,5,1,2,2,1,5,2,5,1,2,4,3,2,2,1,4,3,4,3,3,1,2,2,1,4,1,2,4,2,2,2,2,2,1,2,1,2,1,3,1,4,3,2,2,1,2,1,2,2,1,2,2,1,1,2,1,1,1,3,2,2,2,1,1,2,4,1,1,2,1,2,2,1,2,2,1,1,1,2,3,1,2,1,2,2,1,1,2,1,2,1,1,1,1,2,1,2,1,1,1,1,1,3,1,1,1,1,1,1,2,1,1,1,1,1,1,1,1,1,1,3,2,1,1,1,1,1,1,1,1,1,1,1,1,1,2,1,1,1,2,1,2,1,1,1,1,1,1,1,1,1,1,1,1,1,1,1,1,1,1,1,1,1,1,1,1,1,1]}},\"id\":\"b0bc301a-9908-4f1a-9727-cadf5878ce61\",\"type\":\"ColumnDataSource\"},{\"attributes\":{\"formatter\":{\"id\":\"01ea010f-0b0a-43f6-8004-f74b22331c67\",\"type\":\"LogTickFormatter\"},\"plot\":{\"id\":\"559504c1-8f72-486e-800e-2b1f2545b152\",\"subtype\":\"Figure\",\"type\":\"Plot\"},\"ticker\":{\"id\":\"e165179e-7e17-4960-a121-7da0ecb7cb51\",\"type\":\"LogTicker\"}},\"id\":\"33e04569-d670-4216-b7f6-a7b7b5a01944\",\"type\":\"LogAxis\"},{\"attributes\":{\"ticker\":null},\"id\":\"01ea010f-0b0a-43f6-8004-f74b22331c67\",\"type\":\"LogTickFormatter\"},{\"attributes\":{\"active_drag\":\"auto\",\"active_scroll\":\"auto\",\"active_tap\":\"auto\",\"tools\":[{\"id\":\"ce026e0a-a8c0-4529-acf4-f8c06b41830a\",\"type\":\"PanTool\"},{\"id\":\"54d53c04-1aa9-4490-8d66-3522bea86fab\",\"type\":\"WheelZoomTool\"},{\"id\":\"0e58fde0-7327-4ec9-8b6a-89fa9926c9ae\",\"type\":\"BoxZoomTool\"},{\"id\":\"26edb2df-218e-493c-bb78-55d7e4f7e0a7\",\"type\":\"SaveTool\"},{\"id\":\"360fcaa9-8465-4cc4-9791-55e449dfb41f\",\"type\":\"ResetTool\"},{\"id\":\"e69678ba-7752-430a-a05f-6efa38a2f303\",\"type\":\"HelpTool\"}]},\"id\":\"7273142e-c964-4d8c-af4d-f7fc35c3ea59\",\"type\":\"Toolbar\"},{\"attributes\":{\"plot\":{\"id\":\"559504c1-8f72-486e-800e-2b1f2545b152\",\"subtype\":\"Figure\",\"type\":\"Plot\"},\"ticker\":{\"id\":\"d9bf7789-de13-44ef-b51c-17e849138ef6\",\"type\":\"LogTicker\"}},\"id\":\"186fff87-3de0-4b81-b4ba-b0a029533fbe\",\"type\":\"Grid\"},{\"attributes\":{\"dimension\":1,\"plot\":{\"id\":\"559504c1-8f72-486e-800e-2b1f2545b152\",\"subtype\":\"Figure\",\"type\":\"Plot\"},\"ticker\":{\"id\":\"e165179e-7e17-4960-a121-7da0ecb7cb51\",\"type\":\"LogTicker\"}},\"id\":\"e806cad8-2bd1-494c-a2c2-f2cd254e622d\",\"type\":\"Grid\"},{\"attributes\":{\"plot\":{\"id\":\"559504c1-8f72-486e-800e-2b1f2545b152\",\"subtype\":\"Figure\",\"type\":\"Plot\"}},\"id\":\"ce026e0a-a8c0-4529-acf4-f8c06b41830a\",\"type\":\"PanTool\"},{\"attributes\":{\"plot\":{\"id\":\"559504c1-8f72-486e-800e-2b1f2545b152\",\"subtype\":\"Figure\",\"type\":\"Plot\"}},\"id\":\"26edb2df-218e-493c-bb78-55d7e4f7e0a7\",\"type\":\"SaveTool\"},{\"attributes\":{\"data_source\":{\"id\":\"b0bc301a-9908-4f1a-9727-cadf5878ce61\",\"type\":\"ColumnDataSource\"},\"glyph\":{\"id\":\"47748ef8-8027-4eda-8a16-d894fb3e36db\",\"type\":\"Circle\"},\"hover_glyph\":null,\"nonselection_glyph\":{\"id\":\"21c225d4-54a0-40f0-aa2a-8df8d6d8104a\",\"type\":\"Circle\"},\"selection_glyph\":null},\"id\":\"e6878119-76eb-40ee-a0e2-c09dd55663f3\",\"type\":\"GlyphRenderer\"},{\"attributes\":{\"num_minor_ticks\":10},\"id\":\"d9bf7789-de13-44ef-b51c-17e849138ef6\",\"type\":\"LogTicker\"},{\"attributes\":{\"plot\":{\"id\":\"559504c1-8f72-486e-800e-2b1f2545b152\",\"subtype\":\"Figure\",\"type\":\"Plot\"}},\"id\":\"e69678ba-7752-430a-a05f-6efa38a2f303\",\"type\":\"HelpTool\"}],\"root_ids\":[\"559504c1-8f72-486e-800e-2b1f2545b152\"]},\"title\":\"Bokeh Application\",\"version\":\"0.12.4\"}};\n",
       "            var render_items = [{\"docid\":\"d694d604-3249-4fd6-9396-443a8dc69562\",\"elementid\":\"9a0447a8-5cde-4221-b243-21d5978bb36f\",\"modelid\":\"559504c1-8f72-486e-800e-2b1f2545b152\"}];\n",
       "            \n",
       "            Bokeh.embed.embed_items(docs_json, render_items);\n",
       "          };\n",
       "          if (document.readyState != \"loading\") fn();\n",
       "          else document.addEventListener(\"DOMContentLoaded\", fn);\n",
       "        })();\n",
       "      },\n",
       "      function(Bokeh) {\n",
       "      }\n",
       "    ];\n",
       "  \n",
       "    function run_inline_js() {\n",
       "      \n",
       "      if ((window.Bokeh !== undefined) || (force === true)) {\n",
       "        for (var i = 0; i < inline_js.length; i++) {\n",
       "          inline_js[i](window.Bokeh);\n",
       "        }if (force === true) {\n",
       "          display_loaded();\n",
       "        }} else if (Date.now() < window._bokeh_timeout) {\n",
       "        setTimeout(run_inline_js, 100);\n",
       "      } else if (!window._bokeh_failed_load) {\n",
       "        console.log(\"Bokeh: BokehJS failed to load within specified timeout.\");\n",
       "        window._bokeh_failed_load = true;\n",
       "      } else if (force !== true) {\n",
       "        var cell = $(document.getElementById(\"9a0447a8-5cde-4221-b243-21d5978bb36f\")).parents('.cell').data().cell;\n",
       "        cell.output_area.append_execute_result(NB_LOAD_WARNING)\n",
       "      }\n",
       "  \n",
       "    }\n",
       "  \n",
       "    if (window._bokeh_is_loading === 0) {\n",
       "      console.log(\"Bokeh: BokehJS loaded, going straight to plotting\");\n",
       "      run_inline_js();\n",
       "    } else {\n",
       "      load_libs(js_urls, function() {\n",
       "        console.log(\"Bokeh: BokehJS plotting callback run at\", now());\n",
       "        run_inline_js();\n",
       "      });\n",
       "    }\n",
       "  }(this));\n",
       "</script>"
      ]
     },
     "metadata": {},
     "output_type": "display_data"
    }
   ],
   "source": [
    "show(plot)"
   ]
  },
  {
   "cell_type": "code",
   "execution_count": null,
   "metadata": {
    "collapsed": true
   },
   "outputs": [],
   "source": []
  }
 ],
 "metadata": {
  "celltoolbar": "Raw Cell Format",
  "kernelspec": {
   "display_name": "Python 3",
   "language": "python",
   "name": "python3"
  },
  "language_info": {
   "codemirror_mode": {
    "name": "ipython",
    "version": 3
   },
   "file_extension": ".py",
   "mimetype": "text/x-python",
   "name": "python",
   "nbconvert_exporter": "python",
   "pygments_lexer": "ipython3",
   "version": "3.5.3"
  }
 },
 "nbformat": 4,
 "nbformat_minor": 2
}
